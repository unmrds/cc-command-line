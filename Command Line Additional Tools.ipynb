{
 "cells": [
  {
   "cell_type": "markdown",
   "metadata": {},
   "source": [
    "# Some More Powerful Tools\n",
    "------------------------------------------------------------------------------------------------------------------------\n",
    "\n",
    "For more info or help with any command, use the help flag.\n",
    "\n",
    "> find --help\n",
    "\n",
    "> grep --help\n",
    "\n",
    "> curl --help\n",
    "\n",
    "## find\n",
    "\n",
    "The __find__ command searches for files by name recursively through directories, beginning from a specified starting point. A very simple usage in our case is to find \"untitled\" Jupyter Notebooks that were created by participants during earlier sessions.\n",
    "\n",
    "> find . -iname 'untitled\\*.ipynb'"
   ]
  },
  {
   "cell_type": "code",
   "execution_count": null,
   "metadata": {
    "collapsed": false
   },
   "outputs": [],
   "source": [
    "%%bash\n",
    "# list the contents of the present working directory\n",
    "find ../../ -iname 'untitled*.ipynb'"
   ]
  },
  {
   "cell_type": "markdown",
   "metadata": {},
   "source": [
    "Note that the addition of the _i_ flag on the _name_ test (\"_-iname_\") allows case-insensitive search. The asterisk wildcard is used because the system will append numbers to untitled notebooks when there are more than one in a directory.\n",
    "\n",
    "The output includes the path.\n",
    "\n",
    "Expressions used with the file command allow us to do something with the found files. Say for example we want to identify the untitled notebooks created prior to this workshop. We can filter by time:\n",
    "\n",
    "> find . -daystart -not -ctime 1 -iname 'untitled\\*.ipynb' -print\n",
    "\n",
    "Perhaps we want to look at these notebooks before doing anything with them. We can use the _-exec_ flag to execute a command on all of the found files. In this case, we will move them all to a new directory in order to inspect them. To avoid collisions between files with the same name, we can also add a number to each filename.\n",
    "\n",
    "> mkdir inspect\n",
    "\n",
    "> find . -daystart -not -ctime 1 -iname 'untitled\\*.ipynb' -exec mv --backup=t '{}' ./inspect/ \\;\n",
    "\n",
    "Or if we're sure we want to delete them right away:\n",
    "\n",
    "> find . -daystart -not -ctime 1 -iname 'untitled\\*.ipynb' -delete"
   ]
  },
  {
   "cell_type": "code",
   "execution_count": null,
   "metadata": {
    "collapsed": true
   },
   "outputs": [],
   "source": [
    "%%bash\n",
    "# delete untitled notebooks\n",
    "#find ../../ -daystart -not -ctime 1 -iname 'untitled*.ipynb' -delete"
   ]
  },
  {
   "cell_type": "markdown",
   "metadata": {},
   "source": [
    "## grep\n",
    "\n",
    "It's also possible to search within the content of files using __grep__. In the example below, we want to search for the word 'darwin' in all of the Jupyter Notebooks in the current directory and any subdirectories. As above, the _-i_ flag allows case-insensitive search. The _-r_ flag makes the search recursive, and the _--include_ flag allows us to use a wildcard to search any notebook file. If only searching within a single file, the _-include_ flag is not needed, only the filename.\n",
    "\n",
    "> grep -i -r 'darwin' --include=\"\\*.ipynb\"\n",
    "\n",
    "The _--text_ flag tells grep to treat binary files as text. \n",
    "\n",
    "> grep -i -r'text' --include='\\*.pdf'\n",
    "\n",
    "> grep -i -r --text 'text' --include='\\*.pdf'"
   ]
  },
  {
   "cell_type": "code",
   "execution_count": null,
   "metadata": {
    "collapsed": false
   },
   "outputs": [],
   "source": [
    "%%bash\n",
    "#pwd\n",
    "grep -i -r 'darwin' --include=\"*.ipynb\""
   ]
  },
  {
   "cell_type": "markdown",
   "metadata": {},
   "source": [
    "## curl\n",
    "\n",
    "cURL is a data transfer utility which supports numerous protocols, including http(s), (s)ftp, and ssh.\n",
    "\n",
    "> curl https://www.usconstitution.net/const.txt\n",
    "\n",
    "> curl wttr.in/Albuquerque\n",
    "\n",
    "> curl wttr.in/Moon"
   ]
  },
  {
   "cell_type": "code",
   "execution_count": null,
   "metadata": {
    "collapsed": false
   },
   "outputs": [],
   "source": [
    "%%bash\n",
    "#curl wttr.in/Moon"
   ]
  },
  {
   "cell_type": "markdown",
   "metadata": {},
   "source": [
    "## Using pipes\n",
    "\n",
    "Pipes allow us to pass the output of one command as input for another command. For example, instead of using _find_ to manage files as above, we could have used a combination of _ls_ and _grep_:\n",
    "\n",
    "> ls -R . | grep -i \"untitled\"\n",
    "\n",
    "> curl https://www.usconstitution.net/const.txt | grep --context=2 -i \"peaceably to assemble\"\n",
    "\n",
    "> curl https://www.usconstitution.net/const.txt | grep --context=2 -i \"peaceably to assemble\" > bill.txt | more bill.txt"
   ]
  },
  {
   "cell_type": "code",
   "execution_count": 1,
   "metadata": {
    "collapsed": false
   },
   "outputs": [
    {
     "name": "stdout",
     "output_type": "stream",
     "text": [
      "Untitled.ipynb\n",
      "Untitled.ipynb_1502389204\n",
      "Untitled1-checkpoint.ipynb~\n",
      "Untitled-checkpoint.ipynb~\n",
      "Untitled.ipynb~\n",
      "Untitled.ipynb\n",
      "Untitled1.ipynb\n",
      "Untitled2.ipynb\n",
      "Untitled3.ipynb\n",
      "Untitled4.ipynb\n",
      "Untitled5.ipynb\n",
      "Untitled6.ipynb\n",
      "Untitled7.ipynb\n",
      "Untitled8.ipynb\n",
      "Untitled.ipynb\n",
      "untitled\n",
      "untitled1.txt\n",
      "untitled.txt\n",
      "Untitled.ipynb\n",
      "Untitled.ipynb_1502389204\n",
      "Untitled1.ipynb\n",
      "Untitled2.ipynb\n",
      "Untitled.ipynb\n",
      "Untitled.ipynb\n"
     ]
    }
   ],
   "source": [
    "%%bash\n",
    "ls -R ../../ | grep -i \"untitled\""
   ]
  },
  {
   "cell_type": "code",
   "execution_count": 2,
   "metadata": {
    "collapsed": false
   },
   "outputs": [
    {
     "name": "stdout",
     "output_type": "stream",
     "text": [
      "Congress shall make no law respecting an establishment of religion, or\n",
      "prohibiting the free exercise thereof; or abridging the freedom of speech, or\n",
      "of the press; or the right of the people peaceably to assemble, and to petition\n",
      "the Government for a redress of grievances.\n",
      "\n"
     ]
    },
    {
     "name": "stderr",
     "output_type": "stream",
     "text": [
      "  % Total    % Received % Xferd  Average Speed   Time    Time     Time  Current\n",
      "                                 Dload  Upload   Total   Spent    Left  Speed\n",
      "\r",
      "  0     0    0     0    0     0      0      0 --:--:-- --:--:-- --:--:--     0\r",
      "  0     0    0     0    0     0      0      0 --:--:-- --:--:-- --:--:--     0\r",
      "100 45119    0 45119    0     0  91689      0 --:--:-- --:--:-- --:--:--   99k\n"
     ]
    }
   ],
   "source": [
    "%%bash\n",
    "curl https://www.usconstitution.net/const.txt | grep --context=2 -i \"peaceably to assemble\""
   ]
  },
  {
   "cell_type": "code",
   "execution_count": 3,
   "metadata": {
    "collapsed": false
   },
   "outputs": [
    {
     "name": "stderr",
     "output_type": "stream",
     "text": [
      "  % Total    % Received % Xferd  Average Speed   Time    Time     Time  Current\n",
      "                                 Dload  Upload   Total   Spent    Left  Speed\n",
      "\r",
      "  0     0    0     0    0     0      0      0 --:--:-- --:--:-- --:--:--     0\r",
      "100 45119    0 45119    0     0   220k      0 --:--:-- --:--:-- --:--:--  222k\n"
     ]
    }
   ],
   "source": [
    "%%bash\n",
    "curl https://www.usconstitution.net/const.txt | grep --context=2 -i \"peaceably to assemble\" > bill.txt #| more bill.txt"
   ]
  },
  {
   "cell_type": "code",
   "execution_count": null,
   "metadata": {
    "collapsed": true
   },
   "outputs": [],
   "source": []
  }
 ],
 "metadata": {
  "kernelspec": {
   "display_name": "Python 3",
   "language": "python",
   "name": "python3"
  },
  "language_info": {
   "codemirror_mode": {
    "name": "ipython",
    "version": 3
   },
   "file_extension": ".py",
   "mimetype": "text/x-python",
   "name": "python",
   "nbconvert_exporter": "python",
   "pygments_lexer": "ipython3",
   "version": "3.5.2"
  }
 },
 "nbformat": 4,
 "nbformat_minor": 2
}
