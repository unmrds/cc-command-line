{
 "cells": [
  {
   "cell_type": "markdown",
   "metadata": {},
   "source": [
    "# Some More Powerful Tools\n",
    "------------------------------------------------------------------------------------------------------------------------\n",
    "\n",
    "### References\n",
    "\n",
    "Ephemeris data were downloaded from the Jet Propulsion Laboratory's _HORIZONS_ System:\n",
    "\n",
    "> Jet Propulsion Laboratory (2019). \"Horizons On-Line Ephemeris System.\" Accessed 2019-10-25 from https://ssd.jpl.nasa.gov/horizons.cgihorizons_doc.\n",
    "\n",
    "For more info or help with any command, use the help flag.\n",
    "\n",
    "> find --help\n",
    "\n",
    "> grep --help\n",
    "\n",
    "> curl --help\n",
    "\n",
    "## find\n",
    "\n",
    "The __find__ command searches for files by name recursively through directories, beginning from a specified starting point. A very simple usage in our case is to find text files in our sample data folder\n",
    "\n",
    "> find . -iname '*.txt'"
   ]
  },
  {
   "cell_type": "code",
   "execution_count": 6,
   "metadata": {},
   "outputs": [
    {
     "name": "stderr",
     "output_type": "stream",
     "text": [
      "bash.exe: warning: could not find /tmp, please create!\n",
      "FIND: Parameter format not correct\r\n"
     ]
    }
   ],
   "source": [
    "%%bash\n",
    "# list the contents of the present working directory\n",
    "find ."
   ]
  },
  {
   "cell_type": "code",
   "execution_count": 7,
   "metadata": {},
   "outputs": [
    {
     "name": "stderr",
     "output_type": "stream",
     "text": [
      "bash.exe: warning: could not find /tmp, please create!\n",
      "FIND: Parameter format not correct\r\n"
     ]
    }
   ],
   "source": [
    "%%bash\n",
    "# list the subdirectories in the current directory and subdirectories\n",
    "find . -type d"
   ]
  },
  {
   "cell_type": "code",
   "execution_count": 14,
   "metadata": {},
   "outputs": [
    {
     "name": "stderr",
     "output_type": "stream",
     "text": [
      "bash.exe: warning: could not find /tmp, please create!\n",
      "FIND: Parameter format not correct\r\n"
     ]
    }
   ],
   "source": [
    "%%bash\n",
    "# list the files in the current directory and subdirectories\n",
    "find . -type f"
   ]
  },
  {
   "cell_type": "code",
   "execution_count": 15,
   "metadata": {},
   "outputs": [
    {
     "name": "stderr",
     "output_type": "stream",
     "text": [
      "bash.exe: warning: could not find /tmp, please create!\n",
      "FIND: Parameter format not correct\r\n"
     ]
    }
   ],
   "source": [
    "%%bash\n",
    "# list the plain text files in the current directory and subdirectories\n",
    "find . -name *.txt"
   ]
  },
  {
   "cell_type": "code",
   "execution_count": null,
   "metadata": {
    "collapsed": true
   },
   "outputs": [],
   "source": [
    "%%bash\n",
    "# same as above, only case insensitive\n",
    "find . -iname *.TXT"
   ]
  },
  {
   "cell_type": "markdown",
   "metadata": {},
   "source": [
    "In our sample data directory, we have the top ten downloads from Project Gutenburg as well as ephemerides for the plants in the solar system (and Pluto). Our previous search found all of them but we can search for specific terms in the filenames."
   ]
  },
  {
   "cell_type": "code",
   "execution_count": 16,
   "metadata": {},
   "outputs": [
    {
     "name": "stderr",
     "output_type": "stream",
     "text": [
      "bash.exe: warning: could not find /tmp, please create!\n",
      "File not found - *ephemeris*\r\n"
     ]
    }
   ],
   "source": [
    "%%bash\n",
    "# same as above, only case insensitive\n",
    "find . -iname *ephemeris*"
   ]
  },
  {
   "cell_type": "markdown",
   "metadata": {},
   "source": [
    "## grep\n",
    "\n",
    "It's also possible to search within the content of files using __grep__. In the example below, we want to search for the word 'mars' in all of the Jupyter Notebooks in the current directory and any subdirectories. In this example, the _-i_ flag allows case-insensitive search. The _-r_ flag makes the search recursive, and the _--include_ flag allows us to use a wildcard to filter on filenames. If only searching within a single file, the _-include_ flag is not needed, only the filename.\n",
    "\n",
    "> grep -i -r 'mars'\n",
    "\n",
    "This produces a lot of results - many of our Project Gutenberg texts also include the word 'Mars' or 'mars.' To search just on ephemerides, we can use the _--include_ flag:\n",
    "\n",
    "> grep -i -r 'Mars' --include=\"*ephemeris*\""
   ]
  },
  {
   "cell_type": "markdown",
   "metadata": {},
   "source": [
    "## curl\n",
    "\n",
    "cURL is a data transfer utility which supports numerous protocols, including http(s), (s)ftp, and ssh.\n",
    "\n",
    "> curl https://www.usconstitution.net/const.txt\n",
    "\n",
    "> curl wttr.in/Albuquerque\n",
    "\n",
    "> curl wttr.in/Moon"
   ]
  },
  {
   "cell_type": "code",
   "execution_count": 10,
   "metadata": {},
   "outputs": [
    {
     "name": "stderr",
     "output_type": "stream",
     "text": [
      "bash.exe: warning: could not find /tmp, please create!\n"
     ]
    }
   ],
   "source": [
    "%%bash\n",
    "#curl wttr.in/Moon"
   ]
  },
  {
   "cell_type": "markdown",
   "metadata": {},
   "source": [
    "## Using pipes\n",
    "\n",
    "Pipes allow us to pass the output of one command as input for another command. For example, instead of using _find_ to manage files as above, we could have used a combination of _ls_ and _grep_:\n",
    "\n",
    "> ls -R . | grep -i \"untitled\"\n",
    "\n",
    "> curl https://www.usconstitution.net/const.txt | grep --context=2 -i \"peaceably to assemble\"\n",
    "\n",
    "> curl https://www.usconstitution.net/const.txt | grep --context=2 -i \"peaceably to assemble\" > bill.txt | more bill.txt"
   ]
  },
  {
   "cell_type": "code",
   "execution_count": 11,
   "metadata": {},
   "outputs": [
    {
     "name": "stderr",
     "output_type": "stream",
     "text": [
      "bash.exe: warning: could not find /tmp, please create!\n",
      "bash: line 1: ls: command not found\n"
     ]
    }
   ],
   "source": [
    "%%bash\n",
    "ls -R ../../ | grep -i \"untitled\""
   ]
  },
  {
   "cell_type": "code",
   "execution_count": 12,
   "metadata": {},
   "outputs": [
    {
     "name": "stderr",
     "output_type": "stream",
     "text": [
      "bash.exe: warning: could not find /tmp, please create!\n",
      "  % Total    % Received % Xferd  Average Speed   Time    Time     Time  Current\r\n",
      "                                 Dload  Upload   Total   Spent    Left  Speed\r\n",
      "\r",
      "  0     0    0     0    0     0      0      0 --:--:-- --:--:-- --:--:--     0\r",
      "  0     0    0     0    0     0      0      0 --:--:-- --:--:-- --:--:--     0\r\n",
      "curl: (77) error setting certificate verify locations:\r\n",
      "  CAfile: C:/ProgramData/Anaconda3/Library/mingw-w64/ssl/certs/ca-bundle.crt\r\n",
      "  CApath: none\r\n"
     ]
    }
   ],
   "source": [
    "%%bash\n",
    "curl https://www.usconstitution.net/const.txt | grep --context=2 -i \"peaceably to assemble\""
   ]
  },
  {
   "cell_type": "code",
   "execution_count": 13,
   "metadata": {},
   "outputs": [
    {
     "name": "stderr",
     "output_type": "stream",
     "text": [
      "bash.exe: warning: could not find /tmp, please create!\n",
      "  % Total    % Received % Xferd  Average Speed   Time    Time     Time  Current\r\n",
      "                                 Dload  Upload   Total   Spent    Left  Speed\r\n",
      "\r",
      "  0     0    0     0    0     0      0      0 --:--:-- --:--:-- --:--:--     0\r",
      "  0     0    0     0    0     0      0      0 --:--:-- --:--:-- --:--:--     0\r\n",
      "curl: (77) error setting certificate verify locations:\r\n",
      "  CAfile: C:/ProgramData/Anaconda3/Library/mingw-w64/ssl/certs/ca-bundle.crt\r\n",
      "  CApath: none\r\n"
     ]
    }
   ],
   "source": [
    "%%bash\n",
    "curl https://www.usconstitution.net/const.txt | grep --context=2 -i \"peaceably to assemble\" > bill.txt #| more bill.txt"
   ]
  },
  {
   "cell_type": "code",
   "execution_count": null,
   "metadata": {
    "collapsed": true
   },
   "outputs": [],
   "source": []
  }
 ],
 "metadata": {
  "kernelspec": {
   "display_name": "Python 3",
   "language": "python",
   "name": "python3"
  },
  "language_info": {
   "codemirror_mode": {
    "name": "ipython",
    "version": 3
   },
   "file_extension": ".py",
   "mimetype": "text/x-python",
   "name": "python",
   "nbconvert_exporter": "python",
   "pygments_lexer": "ipython3",
   "version": "3.6.1"
  }
 },
 "nbformat": 4,
 "nbformat_minor": 2
}
