{
 "cells": [
  {
   "cell_type": "code",
   "execution_count": 4,
   "metadata": {
    "collapsed": false
   },
   "outputs": [
    {
     "name": "stdout",
     "output_type": "stream",
     "text": [
      "/usr/share/info/coreutils.info.gz\n",
      "File: coreutils.info,  Node: ls invocation,  Next: dir invocation,  Up: Directory listing\n",
      "\n",
      "10.1 ‘ls’: List directory contents\n",
      "==================================\n",
      "\n",
      "The ‘ls’ program lists information about files (of any type, including\n",
      "directories).  Options and file arguments can be intermixed arbitrarily,\n",
      "as usual.\n",
      "\n",
      "   For non-option command-line arguments that are directories, by\n",
      "default ‘ls’ lists the contents of directories, not recursively, and\n",
      "omitting files with names beginning with ‘.’.  For other non-option\n",
      "arguments, by default ‘ls’ lists just the file name.  If no non-option\n",
      "argument is specified, ‘ls’ operates on the current directory, acting as\n",
      "if it had been invoked with a single argument of ‘.’.\n",
      "\n",
      "   By default, the output is sorted alphabetically, according to the\n",
      "locale settings in effect.(1)  If standard output is a terminal, the\n",
      "output is in columns (sorted vertically) and control characters are\n",
      "output as question marks; otherwise, the output is listed one per line\n",
      "and control characters are output as-is.\n",
      "\n",
      "   Because ‘ls’ is such a fundamental program, it has accumulated many\n",
      "options over the years.  They are described in the subsections below;\n",
      "within each section, options are listed alphabetically (ignoring case).\n",
      "The division of options into the subsections is not absolute, since some\n",
      "options affect more than one aspect of ‘ls’’s operation.\n",
      "\n",
      "   Exit status:\n",
      "\n",
      "     0 success\n",
      "     1 minor problems  (e.g., failure to access a file or directory not\n",
      "       specified as a command line argument.  This happens when listing a\n",
      "       directory in which entries are actively being removed or renamed.)\n",
      "     2 serious trouble (e.g., memory exhausted, invalid option, failure\n",
      "       to access a file or directory specified as a command line argument\n",
      "       or a directory loop)\n",
      "\n",
      "   Also see *note Common options::.\n",
      "\n",
      "* Menu:\n",
      "\n",
      "* Which files are listed::\n",
      "* What information is listed::\n",
      "* Sorting the output::\n",
      "* Details about version sort::\n",
      "* General output formatting::\n",
      "* Formatting file timestamps::\n",
      "* Formatting the file names::\n",
      "\n",
      "   ---------- Footnotes ----------\n",
      "\n",
      "   (1) If you use a non-POSIX locale (e.g., by setting ‘LC_ALL’ to\n",
      "‘en_US’), then ‘ls’ may produce output that is sorted differently than\n",
      "you’re accustomed to.  In that case, set the ‘LC_ALL’ environment\n",
      "variable to ‘C’.\n",
      "\n",
      "File: coreutils.info,  Node: Which files are listed,  Next: What information is listed,  Up: ls invocation\n",
      "\n",
      "10.1.1 Which files are listed\n",
      "-----------------------------\n",
      "\n",
      "These options determine which files ‘ls’ lists information for.  By\n",
      "default, ‘ls’ lists files and the contents of any directories on the\n",
      "command line, except that in directories it ignores files whose names\n",
      "start with ‘.’.\n",
      "\n",
      "‘-a’\n",
      "‘--all’\n",
      "     In directories, do not ignore file names that start with ‘.’.\n",
      "\n",
      "‘-A’\n",
      "‘--almost-all’\n",
      "     In directories, do not ignore all file names that start with ‘.’;\n",
      "     ignore only ‘.’ and ‘..’.  The ‘--all’ (‘-a’) option overrides this\n",
      "     option.\n",
      "\n",
      "‘-B’\n",
      "‘--ignore-backups’\n",
      "     In directories, ignore files that end with ‘~’.  This option is\n",
      "     equivalent to ‘--ignore='*~' --ignore='.*~'’.\n",
      "\n",
      "‘-d’\n",
      "‘--directory’\n",
      "     List just the names of directories, as with other types of files,\n",
      "     rather than listing their contents.  Do not follow symbolic links\n",
      "     listed on the command line unless the ‘--dereference-command-line’\n",
      "     (‘-H’), ‘--dereference’ (‘-L’), or\n",
      "     ‘--dereference-command-line-symlink-to-dir’ options are specified.\n",
      "\n",
      "‘-H’\n",
      "‘--dereference-command-line’\n",
      "     If a command line argument specifies a symbolic link, show\n",
      "     information for the file the link references rather than for the\n",
      "     link itself.\n",
      "\n",
      "‘--dereference-command-line-symlink-to-dir’\n",
      "     Do not dereference symbolic links, with one exception: if a command\n",
      "     line argument specifies a symbolic link that refers to a directory,\n",
      "     show information for that directory rather than for the link\n",
      "     itself.  This is the default behavior when no other\n",
      "     dereferencing-related option has been specified (‘--classify’\n",
      "     (‘-F’), ‘--directory’ (‘-d’), (‘-l’), ‘--dereference’ (‘-L’), or\n",
      "     ‘--dereference-command-line’ (‘-H’)).\n",
      "\n",
      "‘--group-directories-first’\n",
      "     Group all the directories before the files and then sort the\n",
      "     directories and the files separately using the selected sort key\n",
      "     (see –sort option).  That is, this option specifies a primary sort\n",
      "     key, and the –sort option specifies a secondary key.  However, any\n",
      "     use of ‘--sort=none’ (‘-U’) disables this option altogether.\n",
      "\n",
      "‘--hide=PATTERN’\n",
      "     In directories, ignore files whose names match the shell pattern\n",
      "     PATTERN, unless the ‘--all’ (‘-a’) or ‘--almost-all’ (‘-A’) is also\n",
      "     given.  This option acts like ‘--ignore=PATTERN’ except that it has\n",
      "     no effect if ‘--all’ (‘-a’) or ‘--almost-all’ (‘-A’) is also given.\n",
      "\n",
      "     This option can be useful in shell aliases.  For example, if ‘lx’\n",
      "     is an alias for ‘ls --hide='*~'’ and ‘ly’ is an alias for ‘ls\n",
      "     --ignore='*~'’, then the command ‘lx -A’ lists the file ‘README~’\n",
      "     even though ‘ly -A’ would not.\n",
      "\n",
      "‘-I PATTERN’\n",
      "‘--ignore=PATTERN’\n",
      "     In directories, ignore files whose names match the shell pattern\n",
      "     (not regular expression) PATTERN.  As in the shell, an initial ‘.’\n",
      "     in a file name does not match a wildcard at the start of PATTERN.\n",
      "     Sometimes it is useful to give this option several times.  For\n",
      "     example,\n",
      "\n",
      "          $ ls --ignore='.??*' --ignore='.[^.]' --ignore='#*'\n",
      "\n",
      "     The first option ignores names of length 3 or more that start with\n",
      "     ‘.’, the second ignores all two-character names that start with ‘.’\n",
      "     except ‘..’, and the third ignores names that start with ‘#’.\n",
      "\n",
      "‘-L’\n",
      "‘--dereference’\n",
      "     When showing file information for a symbolic link, show information\n",
      "     for the file the link references rather than the link itself.\n",
      "     However, even with this option, ‘ls’ still prints the name of the\n",
      "     link itself, not the name of the file that the link points to.\n",
      "\n",
      "‘-R’\n",
      "‘--recursive’\n",
      "     List the contents of all directories recursively.\n",
      "\n",
      "File: coreutils.info,  Node: What information is listed,  Next: Sorting the output,  Prev: Which files are listed,  Up: ls invocation\n",
      "\n",
      "10.1.2 What information is listed\n",
      "---------------------------------\n",
      "\n",
      "These options affect the information that ‘ls’ displays.  By default,\n",
      "only file names are shown.\n",
      "\n",
      "‘--author’\n",
      "     List each file’s author when producing long format directory\n",
      "     listings.  In GNU/Hurd, file authors can differ from their owners,\n",
      "     but in other operating systems the two are the same.\n",
      "\n",
      "‘-D’\n",
      "‘--dired’\n",
      "     With the long listing (‘-l’) format, print an additional line after\n",
      "     the main output:\n",
      "\n",
      "          //DIRED// BEG1 END1 BEG2 END2 …\n",
      "\n",
      "     The BEGN and ENDN are unsigned integers that record the byte\n",
      "     position of the beginning and end of each file name in the output.\n",
      "     This makes it easy for Emacs to find the names, even when they\n",
      "     contain unusual characters such as space or newline, without fancy\n",
      "     searching.\n",
      "\n",
      "     If directories are being listed recursively (‘-R’), output a\n",
      "     similar line with offsets for each subdirectory name:\n",
      "\n",
      "          //SUBDIRED// BEG1 END1 …\n",
      "\n",
      "     Finally, output a line of the form:\n",
      "\n",
      "          //DIRED-OPTIONS// --quoting-style=WORD\n",
      "\n",
      "     where WORD is the quoting style (*note Formatting the file\n",
      "     names::).\n",
      "\n",
      "     Here is an actual example:\n",
      "\n",
      "          $ mkdir -p a/sub/deeper a/sub2\n",
      "          $ touch a/f1 a/f2\n",
      "          $ touch a/sub/deeper/file\n",
      "          $ ls -gloRF --dired a\n",
      "            a:\n",
      "            total 8\n",
      "            -rw-r--r-- 1    0 Jun 10 12:27 f1\n",
      "            -rw-r--r-- 1    0 Jun 10 12:27 f2\n",
      "            drwxr-xr-x 3 4096 Jun 10 12:27 sub/\n",
      "            drwxr-xr-x 2 4096 Jun 10 12:27 sub2/\n",
      "\n",
      "            a/sub:\n",
      "            total 4\n",
      "            drwxr-xr-x 2 4096 Jun 10 12:27 deeper/\n",
      "\n",
      "            a/sub/deeper:\n",
      "            total 0\n",
      "            -rw-r--r-- 1 0 Jun 10 12:27 file\n",
      "\n",
      "            a/sub2:\n",
      "            total 0\n",
      "          //DIRED// 48 50 84 86 120 123 158 162 217 223 282 286\n",
      "          //SUBDIRED// 2 3 167 172 228 240 290 296\n",
      "          //DIRED-OPTIONS// --quoting-style=literal\n",
      "\n",
      "     Note that the pairs of offsets on the ‘//DIRED//’ line above\n",
      "     delimit these names: ‘f1’, ‘f2’, ‘sub’, ‘sub2’, ‘deeper’, ‘file’.\n",
      "     The offsets on the ‘//SUBDIRED//’ line delimit the following\n",
      "     directory names: ‘a’, ‘a/sub’, ‘a/sub/deeper’, ‘a/sub2’.\n",
      "\n",
      "     Here is an example of how to extract the fifth entry name,\n",
      "     ‘deeper’, corresponding to the pair of offsets, 222 and 228:\n",
      "\n",
      "          $ ls -gloRF --dired a > out\n",
      "          $ dd bs=1 skip=222 count=6 < out 2>/dev/null; echo\n",
      "          deeper\n",
      "\n",
      "     Note that although the listing above includes a trailing slash for\n",
      "     the ‘deeper’ entry, the offsets select the name without the\n",
      "     trailing slash.  However, if you invoke ‘ls’ with ‘--dired’ along\n",
      "     with an option like ‘--escape’ (aka ‘-b’) and operate on a file\n",
      "     whose name contains special characters, notice that the backslash\n",
      "     _is_ included:\n",
      "\n",
      "          $ touch 'a b'\n",
      "          $ ls -blog --dired 'a b'\n",
      "            -rw-r--r-- 1 0 Jun 10 12:28 a\\ b\n",
      "          //DIRED// 30 34\n",
      "          //DIRED-OPTIONS// --quoting-style=escape\n",
      "\n",
      "     If you use a quoting style that adds quote marks (e.g.,\n",
      "     ‘--quoting-style=c’), then the offsets include the quote marks.  So\n",
      "     beware that the user may select the quoting style via the\n",
      "     environment variable ‘QUOTING_STYLE’.  Hence, applications using\n",
      "     ‘--dired’ should either specify an explicit\n",
      "     ‘--quoting-style=literal’ option (aka ‘-N’ or ‘--literal’) on the\n",
      "     command line, or else be prepared to parse the escaped names.\n",
      "\n",
      "‘--full-time’\n",
      "     Produce long format directory listings, and list times in full.  It\n",
      "     is equivalent to using ‘--format=long’ with ‘--time-style=full-iso’\n",
      "     (*note Formatting file timestamps::).\n",
      "\n",
      "‘-g’\n",
      "     Produce long format directory listings, but don’t display owner\n",
      "     information.\n",
      "\n",
      "‘-G’\n",
      "‘--no-group’\n",
      "     Inhibit display of group information in a long format directory\n",
      "     listing.  (This is the default in some non-GNU versions of ‘ls’, so\n",
      "     we provide this option for compatibility.)\n",
      "\n",
      "‘-h’\n",
      "‘--human-readable’\n",
      "     Append a size letter to each size, such as ‘M’ for mebibytes.\n",
      "     Powers of 1024 are used, not 1000; ‘M’ stands for 1,048,576 bytes.\n",
      "     This option is equivalent to ‘--block-size=human-readable’.  Use\n",
      "     the ‘--si’ option if you prefer powers of 1000.\n",
      "\n",
      "‘-i’\n",
      "‘--inode’\n",
      "     Print the inode number (also called the file serial number and\n",
      "     index number) of each file to the left of the file name.  (This\n",
      "     number uniquely identifies each file within a particular file\n",
      "     system.)\n",
      "\n",
      "‘-l’\n",
      "‘--format=long’\n",
      "‘--format=verbose’\n",
      "     In addition to the name of each file, print the file type, file\n",
      "     mode bits, number of hard links, owner name, group name, size, and\n",
      "     timestamp (*note Formatting file timestamps::), normally the\n",
      "     modification time.  Print question marks for information that\n",
      "     cannot be determined.\n",
      "\n",
      "     Normally the size is printed as a byte count without punctuation,\n",
      "     but this can be overridden (*note Block size::).  For example, ‘-h’\n",
      "     prints an abbreviated, human-readable count, and\n",
      "     ‘--block-size=\"'1\"’ prints a byte count with the thousands\n",
      "     separator of the current locale.\n",
      "\n",
      "     For each directory that is listed, preface the files with a line\n",
      "     ‘total BLOCKS’, where BLOCKS is the total disk allocation for all\n",
      "     files in that directory.  The block size currently defaults to 1024\n",
      "     bytes, but this can be overridden (*note Block size::).  The BLOCKS\n",
      "     computed counts each hard link separately; this is arguably a\n",
      "     deficiency.\n",
      "\n",
      "     The file type is one of the following characters:\n",
      "\n",
      "     ‘-’\n",
      "          regular file\n",
      "     ‘b’\n",
      "          block special file\n",
      "     ‘c’\n",
      "          character special file\n",
      "     ‘C’\n",
      "          high performance (“contiguous data”) file\n",
      "     ‘d’\n",
      "          directory\n",
      "     ‘D’\n",
      "          door (Solaris 2.5 and up)\n",
      "     ‘l’\n",
      "          symbolic link\n",
      "     ‘M’\n",
      "          off-line (“migrated”) file (Cray DMF)\n",
      "     ‘n’\n",
      "          network special file (HP-UX)\n",
      "     ‘p’\n",
      "          FIFO (named pipe)\n",
      "     ‘P’\n",
      "          port (Solaris 10 and up)\n",
      "     ‘s’\n",
      "          socket\n",
      "     ‘?’\n",
      "          some other file type\n",
      "\n",
      "     The file mode bits listed are similar to symbolic mode\n",
      "     specifications (*note Symbolic Modes::).  But ‘ls’ combines\n",
      "     multiple bits into the third character of each set of permissions\n",
      "     as follows:\n",
      "\n",
      "     ‘s’\n",
      "          If the set-user-ID or set-group-ID bit and the corresponding\n",
      "          executable bit are both set.\n",
      "\n",
      "     ‘S’\n",
      "          If the set-user-ID or set-group-ID bit is set but the\n",
      "          corresponding executable bit is not set.\n",
      "\n",
      "     ‘t’\n",
      "          If the restricted deletion flag or sticky bit, and the\n",
      "          other-executable bit, are both set.  The restricted deletion\n",
      "          flag is another name for the sticky bit.  *Note Mode\n",
      "          Structure::.\n",
      "\n",
      "     ‘T’\n",
      "          If the restricted deletion flag or sticky bit is set but the\n",
      "          other-executable bit is not set.\n",
      "\n",
      "     ‘x’\n",
      "          If the executable bit is set and none of the above apply.\n",
      "\n",
      "     ‘-’\n",
      "          Otherwise.\n",
      "\n",
      "     Following the file mode bits is a single character that specifies\n",
      "     whether an alternate access method such as an access control list\n",
      "     applies to the file.  When the character following the file mode\n",
      "     bits is a space, there is no alternate access method.  When it is a\n",
      "     printing character, then there is such a method.\n",
      "\n",
      "     GNU ‘ls’ uses a ‘.’ character to indicate a file with a security\n",
      "     context, but no other alternate access method.\n",
      "\n",
      "     A file with any other combination of alternate access methods is\n",
      "     marked with a ‘+’ character.\n",
      "\n",
      "‘-n’\n",
      "‘--numeric-uid-gid’\n",
      "     Produce long format directory listings, but display numeric user\n",
      "     and group IDs instead of the owner and group names.\n",
      "\n",
      "‘-o’\n",
      "     Produce long format directory listings, but don’t display group\n",
      "     information.  It is equivalent to using ‘--format=long’ with\n",
      "     ‘--no-group’ .\n",
      "\n",
      "‘-s’\n",
      "‘--size’\n",
      "     Print the disk allocation of each file to the left of the file\n",
      "     name.  This is the amount of disk space used by the file, which is\n",
      "     usually a bit more than the file’s size, but it can be less if the\n",
      "     file has holes.\n",
      "\n",
      "     Normally the disk allocation is printed in units of 1024 bytes, but\n",
      "     this can be overridden (*note Block size::).\n",
      "\n",
      "     For files that are NFS-mounted from an HP-UX system to a BSD\n",
      "     system, this option reports sizes that are half the correct values.\n",
      "     On HP-UX systems, it reports sizes that are twice the correct\n",
      "     values for files that are NFS-mounted from BSD systems.  This is\n",
      "     due to a flaw in HP-UX; it also affects the HP-UX ‘ls’ program.\n",
      "\n",
      "‘--si’\n",
      "     Append an SI-style abbreviation to each size, such as ‘M’ for\n",
      "     megabytes.  Powers of 1000 are used, not 1024; ‘M’ stands for\n",
      "     1,000,000 bytes.  This option is equivalent to ‘--block-size=si’.\n",
      "     Use the ‘-h’ or ‘--human-readable’ option if you prefer powers of\n",
      "     1024.\n",
      "\n",
      "‘-Z’\n",
      "‘--context’\n",
      "     Display the SELinux security context or ‘?’ if none is found.  When\n",
      "     used with the ‘-l’ option, print the security context to the left\n",
      "     of the size column.\n",
      "\n",
      "File: coreutils.info,  Node: Sorting the output,  Next: Details about version sort,  Prev: What information is listed,  Up: ls invocation\n",
      "\n",
      "10.1.3 Sorting the output\n",
      "-------------------------\n",
      "\n",
      "These options change the order in which ‘ls’ sorts the information it\n",
      "outputs.  By default, sorting is done by character code (e.g., ASCII\n",
      "order).\n",
      "\n",
      "‘-c’\n",
      "‘--time=ctime’\n",
      "‘--time=status’\n",
      "     If the long listing format (e.g., ‘-l’, ‘-o’) is being used, print\n",
      "     the status change time (the ‘ctime’ in the inode) instead of the\n",
      "     modification time.  When explicitly sorting by time (‘--sort=time’\n",
      "     or ‘-t’) or when not using a long listing format, sort according to\n",
      "     the status change time.\n",
      "\n",
      "‘-f’\n",
      "     Primarily, like ‘-U’—do not sort; list the files in whatever order\n",
      "     they are stored in the directory.  But also enable ‘-a’ (list all\n",
      "     files) and disable ‘-l’, ‘--color’, and ‘-s’ (if they were\n",
      "     specified before the ‘-f’).\n",
      "\n",
      "‘-r’\n",
      "‘--reverse’\n",
      "     Reverse whatever the sorting method is—e.g., list files in reverse\n",
      "     alphabetical order, youngest first, smallest first, or whatever.\n",
      "\n",
      "‘-S’\n",
      "‘--sort=size’\n",
      "     Sort by file size, largest first.\n",
      "\n",
      "‘-t’\n",
      "‘--sort=time’\n",
      "     Sort by modification time (the ‘mtime’ in the inode), newest first.\n",
      "\n",
      "‘-u’\n",
      "‘--time=atime’\n",
      "‘--time=access’\n",
      "‘--time=use’\n",
      "     If the long listing format (e.g., ‘--format=long’) is being used,\n",
      "     print the last access time (the ‘atime’ in the inode).  When\n",
      "     explicitly sorting by time (‘--sort=time’ or ‘-t’) or when not\n",
      "     using a long listing format, sort according to the access time.\n",
      "\n",
      "‘-U’\n",
      "‘--sort=none’\n",
      "     Do not sort; list the files in whatever order they are stored in\n",
      "     the directory.  (Do not do any of the other unrelated things that\n",
      "     ‘-f’ does.)  This is especially useful when listing very large\n",
      "     directories, since not doing any sorting can be noticeably faster.\n",
      "\n",
      "‘-v’\n",
      "‘--sort=version’\n",
      "     Sort by version name and number, lowest first.  It behaves like a\n",
      "     default sort, except that each sequence of decimal digits is\n",
      "     treated numerically as an index/version number.  (*Note Details\n",
      "     about version sort::.)\n",
      "\n",
      "‘-X’\n",
      "‘--sort=extension’\n",
      "     Sort directory contents alphabetically by file extension\n",
      "     (characters after the last ‘.’); files with no extension are sorted\n",
      "     first.\n",
      "\n",
      "File: coreutils.info,  Node: Details about version sort,  Next: General output formatting,  Prev: Sorting the output,  Up: ls invocation\n",
      "\n",
      "10.1.4 Details about version sort\n",
      "---------------------------------\n",
      "\n",
      "Version sorting handles the fact that file names frequently include\n",
      "indices or version numbers.  Standard sorting usually does not produce\n",
      "the order that one expects because comparisons are made on a\n",
      "character-by-character basis.  Version sorting is especially useful when\n",
      "browsing directories that contain many files with indices/version\n",
      "numbers in their names:\n",
      "\n",
      "     $ ls -1            $ ls -1v\n",
      "     abc.zml-1.gz       abc.zml-1.gz\n",
      "     abc.zml-12.gz      abc.zml-2.gz\n",
      "     abc.zml-2.gz       abc.zml-12.gz\n",
      "\n",
      "   Version-sorted strings are compared such that if VER1 and VER2 are\n",
      "version numbers and PREFIX and SUFFIX (SUFFIX matching the regular\n",
      "expression ‘(\\.[A-Za-z~][A-Za-z0-9~]*)*’) are strings then VER1 < VER2\n",
      "implies that the name composed of “PREFIX VER1 SUFFIX” sorts before\n",
      "“PREFIX VER2 SUFFIX”.\n",
      "\n",
      "   Note also that leading zeros of numeric parts are ignored:\n",
      "\n",
      "     $ ls -1            $ ls -1v\n",
      "     abc-1.007.tgz      abc-1.01a.tgz\n",
      "     abc-1.012b.tgz     abc-1.007.tgz\n",
      "     abc-1.01a.tgz      abc-1.012b.tgz\n",
      "\n",
      "   This functionality is implemented using gnulib’s ‘filevercmp’\n",
      "function, which has some caveats worth noting.\n",
      "\n",
      "   • ‘LC_COLLATE’ is ignored, which means ‘ls -v’ and ‘sort -V’ will\n",
      "     sort non-numeric prefixes as if the ‘LC_COLLATE’ locale category\n",
      "     was set to ‘C’.\n",
      "   • Some suffixes will not be matched by the regular expression\n",
      "     mentioned above.  Consequently these examples may not sort as you\n",
      "     expect:\n",
      "\n",
      "          abc-1.2.3.4.7z\n",
      "          abc-1.2.3.7z\n",
      "\n",
      "          abc-1.2.3.4.x86_64.rpm\n",
      "          abc-1.2.3.x86_64.rpm\n",
      "\n",
      "File: coreutils.info,  Node: General output formatting,  Next: Formatting file timestamps,  Prev: Details about version sort,  Up: ls invocation\n",
      "\n",
      "10.1.5 General output formatting\n",
      "--------------------------------\n",
      "\n",
      "These options affect the appearance of the overall output.\n",
      "\n",
      "‘-1’\n",
      "‘--format=single-column’\n",
      "     List one file per line.  This is the default for ‘ls’ when standard\n",
      "     output is not a terminal.\n",
      "\n",
      "‘-C’\n",
      "‘--format=vertical’\n",
      "     List files in columns, sorted vertically.  This is the default for\n",
      "     ‘ls’ if standard output is a terminal.  It is always the default\n",
      "     for the ‘dir’ program.  GNU ‘ls’ uses variable width columns to\n",
      "     display as many files as possible in the fewest lines.\n",
      "\n",
      "‘--color [=WHEN]’\n",
      "     Specify whether to use color for distinguishing file types.  WHEN\n",
      "     may be omitted, or one of:\n",
      "        • none - Do not use color at all.  This is the default.\n",
      "        • auto - Only use color if standard output is a terminal.\n",
      "        • always - Always use color.\n",
      "     Specifying ‘--color’ and no WHEN is equivalent to ‘--color=always’.\n",
      "     Piping a colorized listing through a pager like ‘more’ or ‘less’\n",
      "     usually produces unreadable results.  However, using ‘more -f’ does\n",
      "     seem to work.\n",
      "\n",
      "     Note that using the ‘--color’ option may incur a noticeable\n",
      "     performance penalty when run in a directory with very many entries,\n",
      "     because the default settings require that ‘ls’ ‘stat’ every single\n",
      "     file it lists.  However, if you would like most of the file-type\n",
      "     coloring but can live without the other coloring options (e.g.,\n",
      "     executable, orphan, sticky, other-writable, capability), use\n",
      "     ‘dircolors’ to set the ‘LS_COLORS’ environment variable like this,\n",
      "          eval $(dircolors -p | perl -pe \\\n",
      "            's/^((CAP|S[ET]|O[TR]|M|E)\\w+).*/$1 00/' | dircolors -)\n",
      "     and on a ‘dirent.d_type’-capable file system, ‘ls’ will perform\n",
      "     only one ‘stat’ call per command line argument.\n",
      "\n",
      "‘-F’\n",
      "‘--classify’\n",
      "‘--indicator-style=classify’\n",
      "     Append a character to each file name indicating the file type.\n",
      "     Also, for regular files that are executable, append ‘*’.  The file\n",
      "     type indicators are ‘/’ for directories, ‘@’ for symbolic links,\n",
      "     ‘|’ for FIFOs, ‘=’ for sockets, ‘>’ for doors, and nothing for\n",
      "     regular files.  Do not follow symbolic links listed on the command\n",
      "     line unless the ‘--dereference-command-line’ (‘-H’),\n",
      "     ‘--dereference’ (‘-L’), or\n",
      "     ‘--dereference-command-line-symlink-to-dir’ options are specified.\n",
      "\n",
      "‘--file-type’\n",
      "‘--indicator-style=file-type’\n",
      "     Append a character to each file name indicating the file type.\n",
      "     This is like ‘-F’, except that executables are not marked.\n",
      "\n",
      "‘--indicator-style=WORD’\n",
      "     Append a character indicator with style WORD to entry names, as\n",
      "     follows:\n",
      "\n",
      "     ‘none’\n",
      "          Do not append any character indicator; this is the default.\n",
      "     ‘slash’\n",
      "          Append ‘/’ for directories.  This is the same as the ‘-p’\n",
      "          option.\n",
      "     ‘file-type’\n",
      "          Append ‘/’ for directories, ‘@’ for symbolic links, ‘|’ for\n",
      "          FIFOs, ‘=’ for sockets, and nothing for regular files.  This\n",
      "          is the same as the ‘--file-type’ option.\n",
      "     ‘classify’\n",
      "          Append ‘*’ for executable regular files, otherwise behave as\n",
      "          for ‘file-type’.  This is the same as the ‘-F’ or ‘--classify’\n",
      "          option.\n",
      "\n",
      "‘-k’\n",
      "‘--kibibytes’\n",
      "     Set the default block size to its normal value of 1024 bytes,\n",
      "     overriding any contrary specification in environment variables\n",
      "     (*note Block size::).  This option is in turn overridden by the\n",
      "     ‘--block-size’, ‘-h’ or ‘--human-readable’, and ‘--si’ options.\n",
      "\n",
      "     The ‘-k’ or ‘--kibibytes’ option affects the per-directory block\n",
      "     count written by the ‘-l’ and similar options, and the size written\n",
      "     by the ‘-s’ or ‘--size’ option.  It does not affect the file size\n",
      "     written by ‘-l’.\n",
      "\n",
      "‘-m’\n",
      "‘--format=commas’\n",
      "     List files horizontally, with as many as will fit on each line,\n",
      "     separated by ‘, ’ (a comma and a space).\n",
      "\n",
      "‘-p’\n",
      "‘--indicator-style=slash’\n",
      "     Append a ‘/’ to directory names.\n",
      "\n",
      "‘-x’\n",
      "‘--format=across’\n",
      "‘--format=horizontal’\n",
      "     List the files in columns, sorted horizontally.\n",
      "\n",
      "‘-T COLS’\n",
      "‘--tabsize=COLS’\n",
      "     Assume that each tab stop is COLS columns wide.  The default is 8.\n",
      "     ‘ls’ uses tabs where possible in the output, for efficiency.  If\n",
      "     COLS is zero, do not use tabs at all.\n",
      "\n",
      "     Some terminal emulators might not properly align columns to the\n",
      "     right of a TAB following a non-ASCII byte.  You can avoid that\n",
      "     issue by using the ‘-T0’ option or put ‘TABSIZE=0’ in your\n",
      "     environment, to tell ‘ls’ to align using spaces, not tabs.\n",
      "\n",
      "‘-w’\n",
      "‘--width=COLS’\n",
      "     Assume the screen is COLS columns wide.  The default is taken from\n",
      "     the terminal settings if possible; otherwise the environment\n",
      "     variable ‘COLUMNS’ is used if it is set; otherwise the default is\n",
      "     80.\n",
      "\n",
      "File: coreutils.info,  Node: Formatting file timestamps,  Next: Formatting the file names,  Prev: General output formatting,  Up: ls invocation\n",
      "\n",
      "10.1.6 Formatting file timestamps\n",
      "---------------------------------\n",
      "\n",
      "By default, file timestamps are listed in abbreviated form, using a date\n",
      "like ‘Mar 30  2002’ for non-recent timestamps, and a date-without-year\n",
      "and time like ‘Mar 30 23:45’ for recent timestamps.  This format can\n",
      "change depending on the current locale as detailed below.\n",
      "\n",
      "   A timestamp is considered to be \"recent\" if it is less than six\n",
      "months old, and is not dated in the future.  If a timestamp dated today\n",
      "is not listed in recent form, the timestamp is in the future, which\n",
      "means you probably have clock skew problems which may break programs\n",
      "like ‘make’ that rely on file timestamps.\n",
      "\n",
      "   Time stamps are listed according to the time zone rules specified by\n",
      "the ‘TZ’ environment variable, or by the system default rules if ‘TZ’ is\n",
      "not set.  *Note Specifying the Time Zone with ‘TZ’: (libc)TZ Variable.\n",
      "\n",
      "   The following option changes how file timestamps are printed.\n",
      "\n",
      "‘--time-style=STYLE’\n",
      "     List timestamps in style STYLE.  The STYLE should be one of the\n",
      "     following:\n",
      "\n",
      "     ‘+FORMAT’\n",
      "          List timestamps using FORMAT, where FORMAT is interpreted like\n",
      "          the format argument of ‘date’ (*note date invocation::).  For\n",
      "          example, ‘--time-style=\"+%Y-%m-%d %H:%M:%S\"’ causes ‘ls’ to\n",
      "          list timestamps like ‘2002-03-30 23:45:56’.  As with ‘date’,\n",
      "          FORMAT’s interpretation is affected by the ‘LC_TIME’ locale\n",
      "          category.\n",
      "\n",
      "          If FORMAT contains two format strings separated by a newline,\n",
      "          the former is used for non-recent files and the latter for\n",
      "          recent files; if you want output columns to line up, you may\n",
      "          need to insert spaces in one of the two formats.\n",
      "\n",
      "     ‘full-iso’\n",
      "          List timestamps in full using ISO 8601 date, time, and time\n",
      "          zone format with nanosecond precision, e.g., ‘2002-03-30\n",
      "          23:45:56.477817180 -0700’.  This style is equivalent to\n",
      "          ‘+%Y-%m-%d %H:%M:%S.%N %z’.\n",
      "\n",
      "          This is useful because the time output includes all the\n",
      "          information that is available from the operating system.  For\n",
      "          example, this can help explain ‘make’’s behavior, since GNU\n",
      "          ‘make’ uses the full timestamp to determine whether a file is\n",
      "          out of date.\n",
      "\n",
      "     ‘long-iso’\n",
      "          List ISO 8601 date and time in minutes, e.g., ‘2002-03-30\n",
      "          23:45’.  These timestamps are shorter than ‘full-iso’\n",
      "          timestamps, and are usually good enough for everyday work.\n",
      "          This style is equivalent to ‘+%Y-%m-%d %H:%M’.\n",
      "\n",
      "     ‘iso’\n",
      "          List ISO 8601 dates for non-recent timestamps (e.g.,\n",
      "          ‘2002-03-30 ’), and ISO 8601 month, day, hour, and minute for\n",
      "          recent timestamps (e.g., ‘03-30 23:45’).  These timestamps are\n",
      "          uglier than ‘long-iso’ timestamps, but they carry nearly the\n",
      "          same information in a smaller space and their brevity helps\n",
      "          ‘ls’ output fit within traditional 80-column output lines.\n",
      "          The following two ‘ls’ invocations are equivalent:\n",
      "\n",
      "               newline='\n",
      "               '\n",
      "               ls -l --time-style=\"+%Y-%m-%d $newline%m-%d %H:%M\"\n",
      "               ls -l --time-style=\"iso\"\n",
      "\n",
      "     ‘locale’\n",
      "          List timestamps in a locale-dependent form.  For example, a\n",
      "          Finnish locale might list non-recent timestamps like ‘maalis\n",
      "          30  2002’ and recent timestamps like ‘maalis 30 23:45’.\n",
      "          Locale-dependent timestamps typically consume more space than\n",
      "          ‘iso’ timestamps and are harder for programs to parse because\n",
      "          locale conventions vary so widely, but they are easier for\n",
      "          many people to read.\n",
      "\n",
      "          The ‘LC_TIME’ locale category specifies the timestamp format.\n",
      "          The default POSIX locale uses timestamps like ‘Mar 30  2002’\n",
      "          and ‘Mar 30 23:45’; in this locale, the following two ‘ls’\n",
      "          invocations are equivalent:\n",
      "\n",
      "               newline='\n",
      "               '\n",
      "               ls -l --time-style=\"+%b %e  %Y$newline%b %e %H:%M\"\n",
      "               ls -l --time-style=\"locale\"\n",
      "\n",
      "          Other locales behave differently.  For example, in a German\n",
      "          locale, ‘--time-style=\"locale\"’ might be equivalent to\n",
      "          ‘--time-style=\"+%e. %b %Y $newline%e. %b %H:%M\"’ and might\n",
      "          generate timestamps like ‘30. Mär 2002 ’ and ‘30. Mär 23:45’.\n",
      "\n",
      "     ‘posix-STYLE’\n",
      "          List POSIX-locale timestamps if the ‘LC_TIME’ locale category\n",
      "          is POSIX, STYLE timestamps otherwise.  For example, the\n",
      "          ‘posix-long-iso’ style lists timestamps like ‘Mar 30  2002’\n",
      "          and ‘Mar 30 23:45’ when in the POSIX locale, and like\n",
      "          ‘2002-03-30 23:45’ otherwise.\n",
      "\n",
      "   You can specify the default value of the ‘--time-style’ option with\n",
      "the environment variable ‘TIME_STYLE’; if ‘TIME_STYLE’ is not set the\n",
      "default style is ‘locale’.  GNU Emacs 21.3 and later use the ‘--dired’\n",
      "option and therefore can parse any date format, but if you are using\n",
      "Emacs 21.1 or 21.2 and specify a non-POSIX locale you may need to set\n",
      "‘TIME_STYLE=\"posix-long-iso\"’.\n",
      "\n",
      "   To avoid certain denial-of-service attacks, timestamps that would be\n",
      "longer than 1000 bytes may be treated as errors.\n",
      "\n",
      "File: coreutils.info,  Node: Formatting the file names,  Prev: Formatting file timestamps,  Up: ls invocation\n",
      "\n",
      "10.1.7 Formatting the file names\n",
      "--------------------------------\n",
      "\n",
      "These options change how file names themselves are printed.\n",
      "\n",
      "‘-b’\n",
      "‘--escape’\n",
      "‘--quoting-style=escape’\n",
      "     Quote nongraphic characters in file names using alphabetic and\n",
      "     octal backslash sequences like those used in C.\n",
      "\n",
      "‘-N’\n",
      "‘--literal’\n",
      "‘--quoting-style=literal’\n",
      "     Do not quote file names.  However, with ‘ls’ nongraphic characters\n",
      "     are still printed as question marks if the output is a terminal and\n",
      "     you do not specify the ‘--show-control-chars’ option.\n",
      "\n",
      "‘-q’\n",
      "‘--hide-control-chars’\n",
      "     Print question marks instead of nongraphic characters in file\n",
      "     names.  This is the default if the output is a terminal and the\n",
      "     program is ‘ls’.\n",
      "\n",
      "‘-Q’\n",
      "‘--quote-name’\n",
      "‘--quoting-style=c’\n",
      "     Enclose file names in double quotes and quote nongraphic characters\n",
      "     as in C.\n",
      "\n",
      "‘--quoting-style=WORD’\n",
      "     Use style WORD to quote file names and other strings that may\n",
      "     contain arbitrary characters.  The WORD should be one of the\n",
      "     following:\n",
      "\n",
      "     ‘literal’\n",
      "          Output strings as-is; this is the same as the ‘-N’ or\n",
      "          ‘--literal’ option.\n",
      "     ‘shell’\n",
      "          Quote strings for the shell if they contain shell\n",
      "          metacharacters or would cause ambiguous output.  The quoting\n",
      "          is suitable for POSIX-compatible shells like ‘bash’, but it\n",
      "          does not always work for incompatible shells like ‘csh’.\n",
      "     ‘shell-always’\n",
      "          Quote strings for the shell, even if they would normally not\n",
      "          require quoting.\n",
      "     ‘c’\n",
      "          Quote strings as for C character string literals, including\n",
      "          the surrounding double-quote characters; this is the same as\n",
      "          the ‘-Q’ or ‘--quote-name’ option.\n",
      "     ‘escape’\n",
      "          Quote strings as for C character string literals, except omit\n",
      "          the surrounding double-quote characters; this is the same as\n",
      "          the ‘-b’ or ‘--escape’ option.\n",
      "     ‘clocale’\n",
      "          Quote strings as for C character string literals, except use\n",
      "          surrounding quotation marks appropriate for the locale.\n",
      "     ‘locale’\n",
      "          Quote strings as for C character string literals, except use\n",
      "          surrounding quotation marks appropriate for the locale, and\n",
      "          quote 'like this' instead of \"like this\" in the default C\n",
      "          locale.  This looks nicer on many displays.\n",
      "\n",
      "     You can specify the default value of the ‘--quoting-style’ option\n",
      "     with the environment variable ‘QUOTING_STYLE’.  If that environment\n",
      "     variable is not set, the default value is ‘literal’, but this\n",
      "     default may change to ‘shell’ in a future version of this package.\n",
      "\n",
      "‘--show-control-chars’\n",
      "     Print nongraphic characters as-is in file names.  This is the\n",
      "     default unless the output is a terminal and the program is ‘ls’.\n",
      "\n"
     ]
    }
   ],
   "source": [
    "%%bash\n",
    "info ls "
   ]
  },
  {
   "cell_type": "code",
   "execution_count": 5,
   "metadata": {
    "collapsed": false
   },
   "outputs": [
    {
     "data": {
      "text/plain": [
       "u'/home/jovyan/work/demoFolder'"
      ]
     },
     "execution_count": 5,
     "metadata": {},
     "output_type": "execute_result"
    }
   ],
   "source": [
    "pwd"
   ]
  },
  {
   "cell_type": "code",
   "execution_count": 6,
   "metadata": {
    "collapsed": false
   },
   "outputs": [
    {
     "name": "stdout",
     "output_type": "stream",
     "text": [
      "/home/jovyan/work/demoFolder\n"
     ]
    }
   ],
   "source": [
    "%%bash\n",
    "pwd"
   ]
  },
  {
   "cell_type": "code",
   "execution_count": 7,
   "metadata": {
    "collapsed": false
   },
   "outputs": [
    {
     "name": "stdout",
     "output_type": "stream",
     "text": [
      "blfallon.ipynb\n",
      "File1.txt\n",
      "kbene\n",
      "test.txt\n",
      "Untitled1.ipynb\n",
      "Untitled2.ipynb\n",
      "Untitled3.ipynb\n",
      "Untitled.ipynb\n"
     ]
    }
   ],
   "source": [
    "%%bash\n",
    "ls -1"
   ]
  },
  {
   "cell_type": "code",
   "execution_count": 10,
   "metadata": {
    "collapsed": false
   },
   "outputs": [
    {
     "name": "stdout",
     "output_type": "stream",
     "text": [
      ".\n",
      "..\n",
      "blfallon.ipynb\n",
      "File1.txt\n",
      ".ipynb_checkpoints\n",
      "kbene\n",
      "test.txt\n",
      "Untitled1.ipynb\n",
      "Untitled2.ipynb\n",
      "Untitled3.ipynb\n",
      "Untitled4.ipynb\n",
      "Untitled.ipynb\n"
     ]
    }
   ],
   "source": [
    "%%bash\n",
    "ls -a"
   ]
  },
  {
   "cell_type": "code",
   "execution_count": 11,
   "metadata": {
    "collapsed": false
   },
   "outputs": [
    {
     "name": "stdout",
     "output_type": "stream",
     "text": [
      "total 148\n",
      "drwxr-xr-x 4 jovyan users  4096 Aug 11 15:48 .\n",
      "drwxr-xr-x 9 jovyan users  4096 Aug 11 15:39 ..\n",
      "-rw-r--r-- 1 jovyan users 46466 Aug 11 15:48 blfallon.ipynb\n",
      "-rw-r--r-- 1 jovyan users    19 Aug 10 18:09 File1.txt\n",
      "drwxr-xr-x 2 jovyan users  4096 Aug 11 15:44 .ipynb_checkpoints\n",
      "drwxr-xr-x 3 jovyan users  4096 Aug 10 19:38 kbene\n",
      "-rw-r--r-- 1 jovyan users     0 Aug 10 18:57 test.txt\n",
      "-rw-r--r-- 1 jovyan users 53350 Aug 11 15:36 Untitled1.ipynb\n",
      "-rw-r--r-- 1 jovyan users  9499 Aug 11 15:30 Untitled2.ipynb\n",
      "-rw-r--r-- 1 jovyan users   752 Aug 11 15:43 Untitled3.ipynb\n",
      "-rw-r--r-- 1 jovyan users  1784 Aug 11 15:46 Untitled4.ipynb\n",
      "-rw-r--r-- 1 jovyan users   760 Aug 11 15:37 Untitled.ipynb\n"
     ]
    }
   ],
   "source": [
    "%%bash\n",
    "ls -la"
   ]
  },
  {
   "cell_type": "code",
   "execution_count": 12,
   "metadata": {
    "collapsed": false
   },
   "outputs": [
    {
     "name": "stdout",
     "output_type": "stream",
     "text": [
      "/home/jovyan/work/demoFolder\n"
     ]
    }
   ],
   "source": [
    "%%bash\n",
    "pwd"
   ]
  },
  {
   "cell_type": "code",
   "execution_count": 14,
   "metadata": {
    "collapsed": true
   },
   "outputs": [],
   "source": [
    "%%bash\n",
    "cd"
   ]
  },
  {
   "cell_type": "code",
   "execution_count": 15,
   "metadata": {
    "collapsed": false
   },
   "outputs": [
    {
     "name": "stdout",
     "output_type": "stream",
     "text": [
      "/home/jovyan\n"
     ]
    }
   ],
   "source": [
    "cd"
   ]
  },
  {
   "cell_type": "code",
   "execution_count": 17,
   "metadata": {
    "collapsed": false
   },
   "outputs": [
    {
     "name": "stdout",
     "output_type": "stream",
     "text": [
      "/home/jovyan\n",
      "/home/jovyan\n",
      "/\n"
     ]
    }
   ],
   "source": [
    "%%bash\n",
    "pwd\n",
    "DEMO=$(pwd)\n",
    "echo $DEMO\n",
    "\n",
    "cd / \n",
    "pwd"
   ]
  },
  {
   "cell_type": "code",
   "execution_count": 20,
   "metadata": {
    "collapsed": false
   },
   "outputs": [
    {
     "name": "stdout",
     "output_type": "stream",
     "text": [
      "total 68\n",
      "drwxr-xr-x 19 jovyan users 4096 Aug 11 15:00 .\n",
      "drwxr-xr-x 17 root   root  4096 May 10 20:50 ..\n",
      "-rw-r--r--  1 jovyan users  220 Nov 12  2014 .bash_logout\n",
      "-rw-r--r--  1 jovyan users 3515 Nov 12  2014 .bashrc\n",
      "drwxr-xr-x  3 jovyan users 4096 Dec  6  2016 .cache\n",
      "drwxr-xr-x  2 jovyan users 4096 Dec  6  2016 .conda\n",
      "-rw-r--r--  1 jovyan users   29 Dec 15  2016 .condarc\n",
      "drwxr-xr-x  3 jovyan users 4096 Dec  6  2016 .config\n",
      "drwxr-xr-x  2 jovyan users 4096 Oct 12  2016 .continuum\n",
      "-rw-r--r--  1 jovyan users   42 Oct 12  2016 .curlrc\n",
      "drwxr-xr-x  7 jovyan users 4096 Aug 11 15:00 .ipython\n",
      "drwxr-xr-x  8 jovyan users 4096 Dec 15  2016 .julia\n",
      "-rw-r--r--  1 jovyan users   44 Dec 15  2016 .juliarc.jl\n",
      "drwxr-xr-x  2 jovyan users 4096 Dec 15  2016 .jupyter\n",
      "drwx------  3 jovyan users 4096 May 10 20:50 .local\n",
      "-rw-r--r--  1 jovyan users  675 Nov 12  2014 .profile\n",
      "drwxr-xr-x  9 jovyan users 4096 Aug 11 15:39 work\n",
      "/home/jovyan\n"
     ]
    }
   ],
   "source": [
    "%%bash\n",
    "ls -la\n",
    "\n",
    "cd $DEMO\n",
    "pwd"
   ]
  },
  {
   "cell_type": "code",
   "execution_count": null,
   "metadata": {
    "collapsed": true
   },
   "outputs": [],
   "source": []
  },
  {
   "cell_type": "code",
   "execution_count": null,
   "metadata": {
    "collapsed": true
   },
   "outputs": [],
   "source": []
  },
  {
   "cell_type": "code",
   "execution_count": 19,
   "metadata": {
    "collapsed": false
   },
   "outputs": [
    {
     "ename": "SyntaxError",
     "evalue": "invalid syntax (<ipython-input-19-2fa87540917a>, line 1)",
     "output_type": "error",
     "traceback": [
      "\u001b[1;36m  File \u001b[1;32m\"<ipython-input-19-2fa87540917a>\"\u001b[1;36m, line \u001b[1;32m1\u001b[0m\n\u001b[1;33m    cd $DEMO\u001b[0m\n\u001b[1;37m       ^\u001b[0m\n\u001b[1;31mSyntaxError\u001b[0m\u001b[1;31m:\u001b[0m invalid syntax\n"
     ]
    }
   ],
   "source": [
    "cd $DEMO\n",
    "pwd"
   ]
  },
  {
   "cell_type": "code",
   "execution_count": 22,
   "metadata": {
    "collapsed": false
   },
   "outputs": [
    {
     "name": "stdout",
     "output_type": "stream",
     "text": [
      "/home/jovyan\n"
     ]
    }
   ],
   "source": [
    "%%bash\n",
    "pwd"
   ]
  },
  {
   "cell_type": "code",
   "execution_count": 33,
   "metadata": {
    "collapsed": false
   },
   "outputs": [
    {
     "name": "stdout",
     "output_type": "stream",
     "text": [
      "/home/jovyan\n",
      "/\n",
      "total 72\n",
      "drwxr-xr-x 105 root root 4096 Aug 11 15:10 .\n",
      "drwxr-xr-x 105 root root 4096 Aug 11 15:10 ..\n",
      "drwxr-xr-x   2 root root 4096 Dec  6  2016 bin\n",
      "drwxr-xr-x   2 root root 4096 Mar 13  2016 boot\n",
      "drwxr-xr-x   5 root root  340 Aug 11 14:53 dev\n",
      "-rwxr-xr-x   1 root root    0 May 10 20:50 .dockerenv\n",
      "drwxr-xr-x 104 root root 4096 May 10 20:50 etc\n",
      "drwxr-xr-x  17 root root 4096 May 10 20:50 home\n",
      "drwxr-xr-x  17 root root 4096 Dec 15  2016 lib\n",
      "drwxr-xr-x   2 root root 4096 Sep 28  2016 lib64\n",
      "drwxr-xr-x   2 root root 4096 May  3  2016 media\n",
      "drwxr-xr-x   2 root root 4096 May  3  2016 mnt\n",
      "drwxr-xr-x  16 root root 4096 May 10 20:50 opt\n",
      "dr-xr-xr-x 201 root root    0 Aug 11 14:53 proc\n",
      "drwx------   2 root root 4096 May  3  2016 root\n",
      "drwxr-xr-x   4 root root 4096 Sep 28  2016 run\n",
      "drwxr-xr-x   2 root root 4096 Sep 28  2016 sbin\n",
      "drwxr-xr-x   2 root root 4096 May  3  2016 srv\n",
      "dr-xr-xr-x  13 root root    0 Aug 11 16:12 sys\n",
      "drwxrwxrwt   3 root root 4096 Aug 11 16:18 tmp\n",
      "drwxr-xr-x  45 root root 4096 Dec 15  2016 usr\n",
      "drwxr-xr-x  32 root root 4096 Dec 15  2016 var\n"
     ]
    }
   ],
   "source": [
    "%%bash\n",
    "pwd\n",
    "cd /\n",
    "\n",
    "pwd\n",
    "\n",
    "ls -la\n",
    "\n",
    "cd home"
   ]
  },
  {
   "cell_type": "code",
   "execution_count": 29,
   "metadata": {
    "collapsed": false
   },
   "outputs": [
    {
     "name": "stdout",
     "output_type": "stream",
     "text": [
      "work\n"
     ]
    }
   ],
   "source": [
    "%%bash\n",
    "ls"
   ]
  },
  {
   "cell_type": "code",
   "execution_count": 34,
   "metadata": {
    "collapsed": false
   },
   "outputs": [
    {
     "name": "stderr",
     "output_type": "stream",
     "text": [
      "bash: line 1: cd: jovyan: No such file or directory\n"
     ]
    }
   ],
   "source": [
    "%%bash\n",
    "cd jovyan"
   ]
  },
  {
   "cell_type": "code",
   "execution_count": null,
   "metadata": {
    "collapsed": true
   },
   "outputs": [],
   "source": []
  },
  {
   "cell_type": "code",
   "execution_count": 39,
   "metadata": {
    "collapsed": false
   },
   "outputs": [
    {
     "name": "stdout",
     "output_type": "stream",
     "text": [
      "1502461847\n",
      "1502462041\n",
      "1502462251\n",
      "1502462260\n",
      "1502462281\n",
      "Command Line Additional Tools.ipynb\n",
      "Command-Line-Intro.ipynb\n",
      "Command-Line-Intro.ipynb.bak\n",
      "delete_test.sh\n",
      "demoFolder\n",
      "lsOutput.png\n",
      "Untitled.ipynb\n"
     ]
    }
   ],
   "source": [
    "%%bash\n",
    "cd /home/jovyan/work\n",
    "\n",
    "ls"
   ]
  },
  {
   "cell_type": "code",
   "execution_count": 40,
   "metadata": {
    "collapsed": false
   },
   "outputs": [
    {
     "name": "stdout",
     "output_type": "stream",
     "text": [
      "total 8\n",
      "drwxr-xr-x  2 jovyan users 4096 Aug 11 16:25 1502468701\n",
      "drwxr-xr-x 10 jovyan users 4096 Aug 11 16:23 work\n"
     ]
    }
   ],
   "source": [
    "%%bash\n",
    "mkdir $(date +%s)\n",
    "ls -l"
   ]
  },
  {
   "cell_type": "code",
   "execution_count": 44,
   "metadata": {
    "collapsed": false
   },
   "outputs": [
    {
     "name": "stdout",
     "output_type": "stream",
     "text": [
      "1502469168\n"
     ]
    }
   ],
   "source": [
    "%%bash\n",
    "DNAME=$(date +%s)\n",
    "mkdir $DNAME\n",
    "touch $DNAME/hello.py\n",
    "echo \"print('\\nhello world!')\" > $DNAME/hello.py\n",
    "\n",
    "echo $DNAME\n"
   ]
  },
  {
   "cell_type": "code",
   "execution_count": 46,
   "metadata": {
    "collapsed": false
   },
   "outputs": [
    {
     "name": "stderr",
     "output_type": "stream",
     "text": [
      "cat: 1502469149/hello.py: No such file or directory\n",
      "bash: line 2: syntax error near unexpected token `'hello world!''\n",
      "bash: line 2: `print ('hello world!')'\n"
     ]
    }
   ],
   "source": [
    "%%bash\n",
    "cat 1502469168/hello.py\n",
    "print ('hello world!')"
   ]
  },
  {
   "cell_type": "code",
   "execution_count": null,
   "metadata": {
    "collapsed": true
   },
   "outputs": [],
   "source": []
  },
  {
   "cell_type": "code",
   "execution_count": null,
   "metadata": {
    "collapsed": true
   },
   "outputs": [],
   "source": []
  },
  {
   "cell_type": "code",
   "execution_count": 43,
   "metadata": {
    "collapsed": false
   },
   "outputs": [
    {
     "ename": "SyntaxError",
     "evalue": "invalid syntax (<ipython-input-43-f0b911ed1430>, line 1)",
     "output_type": "error",
     "traceback": [
      "\u001b[1;36m  File \u001b[1;32m\"<ipython-input-43-f0b911ed1430>\"\u001b[1;36m, line \u001b[1;32m1\u001b[0m\n\u001b[1;33m    echo $DNAME\u001b[0m\n\u001b[1;37m         ^\u001b[0m\n\u001b[1;31mSyntaxError\u001b[0m\u001b[1;31m:\u001b[0m invalid syntax\n"
     ]
    }
   ],
   "source": []
  },
  {
   "cell_type": "code",
   "execution_count": null,
   "metadata": {
    "collapsed": true
   },
   "outputs": [],
   "source": []
  },
  {
   "cell_type": "code",
   "execution_count": null,
   "metadata": {
    "collapsed": true
   },
   "outputs": [],
   "source": []
  },
  {
   "cell_type": "code",
   "execution_count": null,
   "metadata": {
    "collapsed": true
   },
   "outputs": [],
   "source": []
  },
  {
   "cell_type": "code",
   "execution_count": null,
   "metadata": {
    "collapsed": true
   },
   "outputs": [],
   "source": [
    "D"
   ]
  },
  {
   "cell_type": "code",
   "execution_count": null,
   "metadata": {
    "collapsed": true
   },
   "outputs": [],
   "source": []
  },
  {
   "cell_type": "code",
   "execution_count": null,
   "metadata": {
    "collapsed": true
   },
   "outputs": [],
   "source": []
  },
  {
   "cell_type": "code",
   "execution_count": null,
   "metadata": {
    "collapsed": true
   },
   "outputs": [],
   "source": []
  },
  {
   "cell_type": "code",
   "execution_count": null,
   "metadata": {
    "collapsed": true
   },
   "outputs": [],
   "source": []
  },
  {
   "cell_type": "code",
   "execution_count": null,
   "metadata": {
    "collapsed": true
   },
   "outputs": [],
   "source": []
  },
  {
   "cell_type": "code",
   "execution_count": null,
   "metadata": {
    "collapsed": true
   },
   "outputs": [],
   "source": []
  },
  {
   "cell_type": "code",
   "execution_count": null,
   "metadata": {
    "collapsed": true
   },
   "outputs": [],
   "source": []
  },
  {
   "cell_type": "code",
   "execution_count": null,
   "metadata": {
    "collapsed": true
   },
   "outputs": [],
   "source": []
  },
  {
   "cell_type": "code",
   "execution_count": null,
   "metadata": {
    "collapsed": true
   },
   "outputs": [],
   "source": []
  },
  {
   "cell_type": "code",
   "execution_count": null,
   "metadata": {
    "collapsed": true
   },
   "outputs": [],
   "source": []
  },
  {
   "cell_type": "code",
   "execution_count": null,
   "metadata": {
    "collapsed": true
   },
   "outputs": [],
   "source": []
  },
  {
   "cell_type": "code",
   "execution_count": null,
   "metadata": {
    "collapsed": true
   },
   "outputs": [],
   "source": []
  },
  {
   "cell_type": "code",
   "execution_count": null,
   "metadata": {
    "collapsed": true
   },
   "outputs": [],
   "source": []
  },
  {
   "cell_type": "code",
   "execution_count": null,
   "metadata": {
    "collapsed": true
   },
   "outputs": [],
   "source": []
  },
  {
   "cell_type": "code",
   "execution_count": null,
   "metadata": {
    "collapsed": true
   },
   "outputs": [],
   "source": []
  },
  {
   "cell_type": "code",
   "execution_count": null,
   "metadata": {
    "collapsed": true
   },
   "outputs": [],
   "source": []
  },
  {
   "cell_type": "code",
   "execution_count": null,
   "metadata": {
    "collapsed": true
   },
   "outputs": [],
   "source": []
  }
 ],
 "metadata": {
  "kernelspec": {
   "display_name": "Python 2",
   "language": "python",
   "name": "python2"
  },
  "language_info": {
   "codemirror_mode": {
    "name": "ipython",
    "version": 2
   },
   "file_extension": ".py",
   "mimetype": "text/x-python",
   "name": "python",
   "nbconvert_exporter": "python",
   "pygments_lexer": "ipython2",
   "version": "2.7.12"
  }
 },
 "nbformat": 4,
 "nbformat_minor": 1
}
