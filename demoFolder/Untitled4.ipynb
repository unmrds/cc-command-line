{
 "cells": [
  {
   "cell_type": "code",
   "execution_count": 1,
   "metadata": {
    "collapsed": false
   },
   "outputs": [
    {
     "name": "stdout",
     "output_type": "stream",
     "text": [
      "/home/jovyan/work/demoFolder\n"
     ]
    }
   ],
   "source": [
    "%%bash\n",
    "pwd"
   ]
  },
  {
   "cell_type": "code",
   "execution_count": 2,
   "metadata": {
    "collapsed": false
   },
   "outputs": [
    {
     "name": "stdout",
     "output_type": "stream",
     "text": [
      "total 136\n",
      "-rw-r--r-- 1 jovyan users 45957 Aug 11 15:40 blfallon.ipynb\n",
      "-rw-r--r-- 1 jovyan users    19 Aug 10 18:09 File1.txt\n",
      "drwxr-xr-x 3 jovyan users  4096 Aug 10 19:38 kbene\n",
      "-rw-r--r-- 1 jovyan users     0 Aug 10 18:57 test.txt\n",
      "-rw-r--r-- 1 jovyan users 53350 Aug 11 15:36 Untitled1.ipynb\n",
      "-rw-r--r-- 1 jovyan users  9499 Aug 11 15:30 Untitled2.ipynb\n",
      "-rw-r--r-- 1 jovyan users   752 Aug 11 15:43 Untitled3.ipynb\n",
      "-rw-r--r-- 1 jovyan users    72 Aug 11 15:44 Untitled4.ipynb\n",
      "-rw-r--r-- 1 jovyan users   760 Aug 11 15:37 Untitled.ipynb\n"
     ]
    }
   ],
   "source": [
    "%%bash\n",
    "ls -l"
   ]
  },
  {
   "cell_type": "code",
   "execution_count": 3,
   "metadata": {
    "collapsed": true
   },
   "outputs": [],
   "source": [
    "%%bash\n",
    "cd ."
   ]
  },
  {
   "cell_type": "code",
   "execution_count": 4,
   "metadata": {
    "collapsed": false
   },
   "outputs": [
    {
     "name": "stdout",
     "output_type": "stream",
     "text": [
      "/home/jovyan/work/demoFolder\n"
     ]
    }
   ],
   "source": [
    "%%bash\n",
    "pwd"
   ]
  },
  {
   "cell_type": "code",
   "execution_count": 5,
   "metadata": {
    "collapsed": false
   },
   "outputs": [
    {
     "name": "stdout",
     "output_type": "stream",
     "text": [
      "/home/jovyan/work/demoFolder\n",
      "/home/jovyan/work\n"
     ]
    }
   ],
   "source": [
    "%%bash\n",
    "pwd\n",
    "cd ..\n",
    "pwd"
   ]
  },
  {
   "cell_type": "code",
   "execution_count": 6,
   "metadata": {
    "collapsed": false
   },
   "outputs": [
    {
     "name": "stdout",
     "output_type": "stream",
     "text": [
      "[Errno 2] No such file or directory: 'demoFolder'\n",
      "/home/jovyan/work/demoFolder\n"
     ]
    }
   ],
   "source": [
    "cd demoFolder"
   ]
  },
  {
   "cell_type": "code",
   "execution_count": 7,
   "metadata": {
    "collapsed": false
   },
   "outputs": [
    {
     "name": "stderr",
     "output_type": "stream",
     "text": [
      "bash: line 1: cd: demoFolder: No such file or directory\n"
     ]
    }
   ],
   "source": [
    "%%bash\n",
    "cd demoFolder"
   ]
  },
  {
   "cell_type": "code",
   "execution_count": 8,
   "metadata": {
    "collapsed": false
   },
   "outputs": [
    {
     "name": "stderr",
     "output_type": "stream",
     "text": [
      "bash: line 1: cd: /demoFolder: No such file or directory\n"
     ]
    }
   ],
   "source": [
    "%%bash\n",
    "cd /demoFolder"
   ]
  },
  {
   "cell_type": "code",
   "execution_count": 9,
   "metadata": {
    "collapsed": false
   },
   "outputs": [
    {
     "name": "stdout",
     "output_type": "stream",
     "text": [
      "/home/jovyan/work/demoFolder\n"
     ]
    }
   ],
   "source": [
    "%%bash\n",
    "pwd"
   ]
  },
  {
   "cell_type": "code",
   "execution_count": 10,
   "metadata": {
    "collapsed": false
   },
   "outputs": [
    {
     "name": "stdout",
     "output_type": "stream",
     "text": [
      "/home/jovyan/work/demoFolder\n",
      "/home/jovyan/work/demoFolder\n"
     ]
    }
   ],
   "source": [
    "%%bash\n",
    "\n",
    "pwd\n",
    "\n",
    "# Set pwd to a variable for later use\n",
    "DEMO=$(pwd)\n",
    "echo $DEMO"
   ]
  },
  {
   "cell_type": "code",
   "execution_count": 12,
   "metadata": {
    "collapsed": false
   },
   "outputs": [
    {
     "name": "stdout",
     "output_type": "stream",
     "text": [
      "/home/jovyan/work/demoFolder\n"
     ]
    }
   ],
   "source": [
    "%%bash\n",
    "demo=$(pwd)\n",
    "echo $demo"
   ]
  },
  {
   "cell_type": "code",
   "execution_count": 14,
   "metadata": {
    "collapsed": false
   },
   "outputs": [
    {
     "ename": "SyntaxError",
     "evalue": "invalid syntax (<ipython-input-14-69220b921e4f>, line 1)",
     "output_type": "error",
     "traceback": [
      "\u001b[1;36m  File \u001b[1;32m\"<ipython-input-14-69220b921e4f>\"\u001b[1;36m, line \u001b[1;32m1\u001b[0m\n\u001b[1;33m    $$bash\u001b[0m\n\u001b[1;37m    ^\u001b[0m\n\u001b[1;31mSyntaxError\u001b[0m\u001b[1;31m:\u001b[0m invalid syntax\n"
     ]
    }
   ],
   "source": [
    "$$bash\n",
    "demo=$(\"Just testing.\")\n",
    "echo $demo"
   ]
  },
  {
   "cell_type": "code",
   "execution_count": 18,
   "metadata": {
    "collapsed": false
   },
   "outputs": [
    {
     "name": "stdout",
     "output_type": "stream",
     "text": [
      "\n"
     ]
    },
    {
     "name": "stderr",
     "output_type": "stream",
     "text": [
      "bash: line 1: Just testing.: command not found\n"
     ]
    }
   ],
   "source": [
    "%%bash\n",
    "demo=$(\"Just testing.\")\n",
    "echo $demo"
   ]
  },
  {
   "cell_type": "code",
   "execution_count": 19,
   "metadata": {
    "collapsed": false
   },
   "outputs": [
    {
     "name": "stdout",
     "output_type": "stream",
     "text": [
      "\n"
     ]
    },
    {
     "name": "stderr",
     "output_type": "stream",
     "text": [
      "bash: command substitution: line 2: syntax error near unexpected token `testing'\n",
      "bash: command substitution: line 2: `echo(testing))'\n"
     ]
    }
   ],
   "source": [
    "%%bash\n",
    "demo=$(echo(testing))\n",
    "echo $demo"
   ]
  },
  {
   "cell_type": "code",
   "execution_count": null,
   "metadata": {
    "collapsed": true
   },
   "outputs": [],
   "source": []
  }
 ],
 "metadata": {
  "kernelspec": {
   "display_name": "Python 2",
   "language": "python",
   "name": "python2"
  },
  "language_info": {
   "codemirror_mode": {
    "name": "ipython",
    "version": 2
   },
   "file_extension": ".py",
   "mimetype": "text/x-python",
   "name": "python",
   "nbconvert_exporter": "python",
   "pygments_lexer": "ipython2",
   "version": "2.7.12"
  }
 },
 "nbformat": 4,
 "nbformat_minor": 1
}
