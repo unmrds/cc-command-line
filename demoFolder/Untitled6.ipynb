{
 "cells": [
  {
   "cell_type": "code",
   "execution_count": 3,
   "metadata": {
    "collapsed": false
   },
   "outputs": [
    {
     "name": "stdout",
     "output_type": "stream",
     "text": [
      "total 172\n",
      "drwxr-xr-x 2 jovyan users  4096 Aug 11 16:23 1502468599\n",
      "-rw-r--r-- 1 jovyan users 56319 Aug 11 16:22 blfallon.ipynb\n",
      "-rw-r--r-- 1 jovyan users    19 Aug 10 18:09 File1.txt\n",
      "drwxr-xr-x 3 jovyan users  4096 Aug 10 19:38 kbene\n",
      "-rw-r--r-- 1 jovyan users     0 Aug 10 18:57 test.txt\n",
      "-rw-r--r-- 1 jovyan users 56982 Aug 11 16:14 Untitled1.ipynb\n",
      "-rw-r--r-- 1 jovyan users 11264 Aug 11 16:20 Untitled2.ipynb\n",
      "-rw-r--r-- 1 jovyan users   752 Aug 11 15:43 Untitled3.ipynb\n",
      "-rw-r--r-- 1 jovyan users  6349 Aug 11 16:02 Untitled4.ipynb\n",
      "-rw-r--r-- 1 jovyan users   620 Aug 11 16:13 Untitled5.ipynb\n",
      "-rw-r--r-- 1 jovyan users   601 Aug 11 16:22 Untitled6.ipynb\n",
      "-rw-r--r-- 1 jovyan users 13762 Aug 11 16:19 Untitled.ipynb\n"
     ]
    }
   ],
   "source": [
    "%%bash\n",
    "mkdir $(date +%s)\n",
    "ls -l"
   ]
  },
  {
   "cell_type": "code",
   "execution_count": 4,
   "metadata": {
    "collapsed": false
   },
   "outputs": [
    {
     "name": "stderr",
     "output_type": "stream",
     "text": [
      "bash: line 1: JustTesting: command not found\n",
      "mkdir: missing operand\n",
      "Try 'mkdir --help' for more information.\n",
      "touch: cannot touch ‘/just_testing.py’: Permission denied\n",
      "bash: line 4: /just_testing.py: Permission denied\n"
     ]
    }
   ],
   "source": [
    "%%bash\n",
    "DNAME=$(JustTesting)\n",
    "mkdir $DNAME\n",
    "touch $DNAME/just_testing.py\n",
    "echo \"print('\\Just testing!')\" > $DNAME/just_testing.py"
   ]
  },
  {
   "cell_type": "code",
   "execution_count": 5,
   "metadata": {
    "collapsed": false
   },
   "outputs": [
    {
     "name": "stdout",
     "output_type": "stream",
     "text": [
      "\n"
     ]
    },
    {
     "name": "stderr",
     "output_type": "stream",
     "text": [
      "bash: command substitution: line 2: syntax error near unexpected token `'JustTesting''\n",
      "bash: command substitution: line 2: `print ('JustTesting'))'\n"
     ]
    }
   ],
   "source": [
    "%%bash\n",
    "DNAME=$(print ('JustTesting'))\n",
    "echo $DNAME"
   ]
  },
  {
   "cell_type": "code",
   "execution_count": 6,
   "metadata": {
    "collapsed": false
   },
   "outputs": [
    {
     "name": "stderr",
     "output_type": "stream",
     "text": [
      "Use: /usr/bin/print <--action=VAL> [--debug] [MIME-TYPE:[ENCODING:]]FILE [...]\n",
      "\n",
      "Options:\n",
      "  action        specify what action to do on these files (default=view)\n",
      "  debug         be verbose about what's going on\n",
      "  nopager       ignore any \"copiousoutput\" directives and never use a \"pager\"\n",
      "  norun         just print but don't execute the command (useful with --debug)\n",
      "\n",
      "Mime-Type:\n",
      "  any standard mime type designation in the form <class>/<subtype> -- if\n",
      "  not specified, it will be determined from the filename extension\n",
      "\n",
      "Encoding:\n",
      "  how the file (and type) has been encoded (only \"gzip\", \"bzip\", \"bzip2\"\n",
      "  and \"compress\" are supported) -- if not specified, it will be determined\n",
      "  from the filename extension\n",
      "\n"
     ]
    }
   ],
   "source": [
    "%%bash\n",
    "print --help"
   ]
  },
  {
   "cell_type": "code",
   "execution_count": 7,
   "metadata": {
    "collapsed": false
   },
   "outputs": [
    {
     "name": "stderr",
     "output_type": "stream",
     "text": [
      "bash: line 1: man: command not found\n"
     ]
    }
   ],
   "source": [
    "%%bash\n",
    "man print"
   ]
  },
  {
   "cell_type": "code",
   "execution_count": null,
   "metadata": {
    "collapsed": true
   },
   "outputs": [],
   "source": [
    "%%"
   ]
  }
 ],
 "metadata": {
  "kernelspec": {
   "display_name": "Python 2",
   "language": "python",
   "name": "python2"
  },
  "language_info": {
   "codemirror_mode": {
    "name": "ipython",
    "version": 2
   },
   "file_extension": ".py",
   "mimetype": "text/x-python",
   "name": "python",
   "nbconvert_exporter": "python",
   "pygments_lexer": "ipython2",
   "version": "2.7.12"
  }
 },
 "nbformat": 4,
 "nbformat_minor": 1
}
