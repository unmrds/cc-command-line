{
 "cells": [
  {
   "cell_type": "markdown",
   "metadata": {},
   "source": [
    "# The Command Line - An Introduction\n",
    "--------------------------------------------------------------"
   ]
  },
  {
   "cell_type": "markdown",
   "metadata": {},
   "source": [
    "Graphical user interfaces are fast, often more than fast enough to suit our needs. GUIs are feature rich, can be intuitive, and often filter out a lot of stuff we don't need to know about and aren't interested in. Nearly everything we need to do can be done simply and quickly using a GUI.\n",
    "\n",
    "__Plus:__"
   ]
  },
  {
   "cell_type": "markdown",
   "metadata": {},
   "source": [
    "* The command line is old fashioned\n",
    "* Potential efficiency gains take time to manifest\n",
    "* Even Neal Stephenson says it's obsolete\n",
    "* ..."
   ]
  },
  {
   "cell_type": "markdown",
   "metadata": {},
   "source": [
    "## But some things are just tedious... ##\n",
    "\n",
    "For example, cleaning all the PDFs off of a cluttered desktop. Backing up files and data. Getting file and permissions info. Routine stuff.\n",
    "\n",
    "All that clicking and dragging. We have better things to do with our time. Plus, for some activities, GUIs use an unnecessary amount of resources and can quickly add up to a cluttered workspace.\n",
    "\n",
    "__The command line is a great resource for speeding up and automating routine activities without using a lot of processing power. In some cases, it can be better for__\n",
    "\n",
    "* Searching for files\n",
    "* Searching _within_ files\n",
    "* Reading and writing files and data\n",
    "* Network activities\n",
    "\n",
    "Some file and data recovery processes can __only__ be executed from the command line."
   ]
  },
  {
   "cell_type": "markdown",
   "metadata": {},
   "source": [
    "## Overview ##\n",
    "\n",
    "This morning we will focus on using a command line client to navigate the filesystem, read and write files, and practice stringing together commands using pipes. For various good reasons, the emphasis will be on UNIX shell commands which are used on Linux and Mac OS operating systems. Most if not all of the commands covered will not work within the standard Windows command line client. Windows users can and are encouraged to avail themselves of UNIX command line clients:\n",
    "\n",
    "* Git provides an excellent client: [https://git-scm.com/](https://git-scm.com/)\n",
    "* _Minimalist GNU for Windows (mingw)_ underlies the Git client: [http://www.mingw.org/](http://www.mingw.org/)\n",
    "* Cygwin is another popular option: [https://www.cygwin.com/](https://www.cygwin.com/)\n",
    "* For Windows 10 Anniversary Edition and later try out the [Windows Subsystem for Linux](https://msdn.microsoft.com/en-us/commandline/wsl/about)\n",
    "\n",
    "**[note]** in all of the executable code blocks below the `%%bash` line at the beginning of the block tells the notebook we're using to execute the commands in the block as if they were typed in at the `bash` command prompt. *This is not required when you are typing in commands from the `bash` command prompt.*\n",
    "\n",
    "### Live Coding\n",
    "\n",
    "Today we are going to be executing commands together and therefore need to have a **command line** environment on our systems. If you are already running the Mac OS or Linux you already have one - the **terminal**. If you are running Windows you need to install a UNIX command environment such as those listed above. \n",
    "\n",
    "### Getting Help and More Information ###\n",
    "\n",
    "Many shell commands have flags or options that can be utilized to refine the execution of the command. In order to find out more about a specific command and its options, three resources (one or more of which may be available for most commands) are the `--help` flag, the manual pages available through the `man` command, and command information available through the `info` command. \n",
    "\n",
    "```bash\n",
    "ls --help\n",
    "\n",
    "```\n",
    "\n",
    "OR\n",
    "\n",
    "```bash\n",
    "man ls\n",
    "```\n",
    "    \n",
    "OR\n",
    "\n",
    "```bash\n",
    "info ls\n",
    "```\n",
    "\n",
    "#### Give it a try ####\n",
    "\n",
    "1. Follow along with me executing the above commands\n",
    "2. Look up the help information for the `pwd` and `cd`"
   ]
  },
  {
   "cell_type": "markdown",
   "metadata": {},
   "source": [
    "\n",
    "### Navigation ### \n",
    "\n",
    "__Where am I and what's here?__"
   ]
  },
  {
   "cell_type": "markdown",
   "metadata": {},
   "source": [
    "```bash\n",
    "pwd\n",
    "```\n",
    "\n",
    "`pwd` is short for 'present working directory.' The output of this command is the absolute path to the directory a user is currently in. Often, knowing the absolute path is necessary in order to move or copy files, or to run scripts.\n",
    "\n",
    "```bash\n",
    "ls\n",
    "```\n",
    "\n",
    "`ls` lists the contents of a directory or directory tree. It is commonly executed with the '-l' (for long output) and/or the '-a' (for a listing of all files - including hidden ones) flag. If `ls` is executed without providing a specific location (path) it will list the contents of the present working directory. If a path is provided it will provide the list of files from that location.  \n",
    "\n",
    "#### Give it a try ####\n",
    "\n",
    "* Use the `pwd` command to see the path of the *present working directory*\n",
    "* Use the `ls` command to see the contents of the *current directory*\n",
    "* Use the `ls ..` command to see the content of the *parent* of the current directory\n",
    "\n",
    "The `..` character sequence is a special reference to the parent of the current directory. This character combination can be used multiple times to represent higher levels relative to the current directory. For example `../..` refers to the parent of the current directory's parent (grandparent), and `../../..` refers to the great grandparent of the current directory. This shorthand reference can be used in many other commands where you would provide a *path* for a command to operate on. \n",
    "\n",
    "* Use the `ls -l` command to see the detailed listing of the contents of the current directory\n",
    "\n",
    "The `-l` flag used above stands for \"long list\" when used with `ls`. Compared with the list of filenames produced by the unflagged `ls` command, the long list provides some useful information, including whether a list item is a file or directory, file/directory permissions, the owning user, the owning group, the size and the time when the file was last modified.\n",
    "\n",
    "![elements of the `ls -l` command output](lsOutput.png)\n",
    "\n",
    "* Use the `ls -la` command to see the detailed listing of the contents of the current directory - including hidden and special files and pointers\n",
    "\n",
    "The `-a` option, or just `a` when combined with another option such as in this example tells the `ls` command to display all files, including hidden files and the special reference shortcuts `..` (for the parent directory of the current directory), and `.` for the current directory. Any file or directory name that begins with a `.` (such as a file named `.ipynb_checkpoints`) is treated as a hidden file and won't be displayed in an ls command unless the -a flag is provided.\n"
   ]
  },
  {
   "cell_type": "markdown",
   "metadata": {},
   "source": [
    "Notice the `.`, `..` items that are now in the file listing. These items are not displayed by default, as they are *system* provided representations of the current directory location `.`, or the parent directory location `..`. Any file or directory name that begins with a `.` (such as the `.ipynb_checkpoints` file) is treated as a hidden file and won't be displayed in an `ls` command unless the `-a` flag is provided. "
   ]
  },
  {
   "cell_type": "markdown",
   "metadata": {},
   "source": [
    "__How do I get out?__\n",
    "\n",
    "There are some shortcuts to reference specific locations in the computer's file system:\n",
    "\n",
    "`/` is a shortcut for the top directory in the file system\n",
    "\n",
    "`~` (tilde) is a shortcut for the current user's home directory\n",
    "\n",
    "`.` is a shortcut for the present working directory\n",
    "\n",
    "`..` is a shortcut for the parent of the present working directory\n",
    "\n",
    "```bash\n",
    "cd\n",
    "```\n",
    "\n",
    "`cd` is one command that will also work in the Windows shell, and stands for... _change directory_.\n",
    "\n",
    "The fastest way to move up within a folder hierarchy is to use the _dot-dot_ notation for the parent directory:\n",
    "\n",
    "#### Give it a try ####\n",
    "\n",
    "* Use the `cd ..` command to move up one directory\n",
    "* Use the `cd ../..` comand to move up two directories\n",
    "* Use the `cd /` command take you to the topmost directory\n",
    "* Use the `cd ~` (or just plain `cd`) command to take you to the current user's home directory\n",
    "\n",
    "\n",
    "__Quick Check:__\n",
    "\n",
    "__How far up can we go from here?__"
   ]
  },
  {
   "cell_type": "code",
   "execution_count": 20,
   "metadata": {},
   "outputs": [
    {
     "name": "stdout",
     "output_type": "stream",
     "text": [
      "/home/jovyan/work/workshops/cc-command-line\n",
      "/home/jovyan/work/workshops\n"
     ]
    }
   ],
   "source": [
    "%%bash\n",
    "pwd\n",
    "cd ..\n",
    "pwd"
   ]
  },
  {
   "cell_type": "code",
   "execution_count": 21,
   "metadata": {},
   "outputs": [
    {
     "name": "stdout",
     "output_type": "stream",
     "text": [
      "/home/jovyan/work/workshops/cc-command-line\n",
      "/home/jovyan/work\n"
     ]
    }
   ],
   "source": [
    "%%bash\n",
    "pwd\n",
    "cd ../..\n",
    "pwd"
   ]
  },
  {
   "cell_type": "markdown",
   "metadata": {},
   "source": [
    "#### Quick Check: ####\n",
    "\n",
    "__Navigate to the root directory ('/'), generate a list of its contents, and then navigate back to our working directory.__"
   ]
  },
  {
   "cell_type": "code",
   "execution_count": 26,
   "metadata": {},
   "outputs": [
    {
     "name": "stdout",
     "output_type": "stream",
     "text": [
      "/home/jovyan/work/workshops/cc-command-line\n",
      "/home/jovyan/work/workshops/cc-command-line\n",
      "/\n",
      "total 768\n",
      "drwxr-xr-x 105 root root   4096 Aug 10 17:24 .\n",
      "drwxr-xr-x 105 root root   4096 Aug 10 17:24 ..\n",
      "drwxr-xr-x   2 root root   4096 Dec  6  2016 bin\n",
      "drwxr-xr-x   2 root root   4096 Mar 13  2016 boot\n",
      "-rw-------   1 root root 909312 Aug 10 17:24 core\n",
      "drwxr-xr-x   5 root root    340 Aug 10 17:25 dev\n",
      "-rwxr-xr-x   1 root root      0 May 10 21:15 .dockerenv\n",
      "drwxr-xr-x 104 root root   4096 May 10 21:15 etc\n",
      "drwxr-xr-x  17 root root   4096 May 10 21:15 home\n",
      "drwxr-xr-x  17 root root   4096 Dec 15  2016 lib\n",
      "drwxr-xr-x   2 root root   4096 Sep 28  2016 lib64\n",
      "drwxr-xr-x   2 root root   4096 May  3  2016 media\n",
      "drwxr-xr-x   2 root root   4096 May  3  2016 mnt\n",
      "drwxr-xr-x  16 root root   4096 May 10 21:15 opt\n",
      "dr-xr-xr-x 202 root root      0 Aug 10 17:25 proc\n",
      "drwx------   2 root root   4096 May  3  2016 root\n",
      "drwxr-xr-x   4 root root   4096 Sep 28  2016 run\n",
      "drwxr-xr-x   2 root root   4096 Sep 28  2016 sbin\n",
      "drwxr-xr-x   2 root root   4096 May  3  2016 srv\n",
      "dr-xr-xr-x  13 root root      0 Aug 10 18:39 sys\n",
      "drwxrwxrwt   3 root root   4096 Aug 10 22:22 tmp\n",
      "drwxr-xr-x  45 root root   4096 Dec 15  2016 usr\n",
      "drwxr-xr-x  32 root root   4096 Dec 15  2016 var\n",
      "/home/jovyan/work/workshops/cc-command-line\n"
     ]
    }
   ],
   "source": [
    "%%bash\n",
    "\n",
    "pwd\n",
    "\n",
    "# Set pwd to a variable for later use\n",
    "DEMO=$(pwd)\n",
    "echo $DEMO\n",
    "\n",
    "cd /\n",
    "pwd\n",
    "\n",
    "ls -la\n",
    "\n",
    "cd $DEMO\n",
    "pwd"
   ]
  },
  {
   "cell_type": "markdown",
   "metadata": {},
   "source": [
    "Three good things to know:\n",
    "\n",
    "* _clear:_ Clear the screen.\n",
    "* _tab completion:_  Auto-complete file and directory names. \n",
    "* _up arrow:_ Reload previous commands.\n",
    "\n",
    "#### Relative versus Absolute Paths ####\n",
    "\n",
    "At first, navigating across directories within the shell may seem slower and more cumbersome than simply using mouse clicks and a GUI. Using tab completion with absolute OR relative paths is an excellent way to increase efficiency.\n",
    "\n",
    "The _relative path_ is the path to a directory or file from the context of a specific starting point (usually the present working directory).\n",
    "\n",
    "The _absolute path_ is the path to a directory or file from the filesystem root ('/').\n",
    "\n",
    "As an example, to navigate to the root directory from our present working directory, we can use\n",
    "\n",
    "_cd ../../../_ (using the relative path)\n",
    "\n",
    "**OR**\n",
    "\n",
    "_cd /_ (using the absolute path)\n",
    "\n",
    "The second option is plainly faster in this case. In other contexts, the relative path would be faster. \n",
    "\n",
    "Relative and absolute paths can also be used to list the contents and read, write, or delete files in other directories."
   ]
  },
  {
   "cell_type": "code",
   "execution_count": 102,
   "metadata": {},
   "outputs": [
    {
     "name": "stdout",
     "output_type": "stream",
     "text": [
      "/\n",
      "/home/jovyan/work/workshops/cc-command-line\n",
      "/\n",
      "/home/jovyan/work/workshops/cc-command-line\n",
      "/home/jovyan/work\n"
     ]
    }
   ],
   "source": [
    "%%bash\n",
    "DEMO=$(pwd)\n",
    "\n",
    "# Move up five directories in the file structure using the relative path.\n",
    "cd ../../../../../\n",
    "pwd\n",
    "\n",
    "# Return to the pwd and then navigate to the root directory using the absolute path.\n",
    "cd $DEMO\n",
    "pwd\n",
    "\n",
    "cd /\n",
    "pwd\n",
    "\n",
    "cd $DEMO\n",
    "pwd\n",
    "\n",
    "# Go to a specific directory with an absolute path\n",
    "cd /home/jovyan/work\n",
    "pwd"
   ]
  },
  {
   "cell_type": "markdown",
   "metadata": {},
   "source": [
    "### Read and Write Files ###\n",
    "\n",
    "The quickest way to create (empty) directories and files is using `mkdir` (make directory) and `touch` (create/update). \n"
   ]
  },
  {
   "cell_type": "code",
   "execution_count": 3,
   "metadata": {},
   "outputs": [
    {
     "name": "stdout",
     "output_type": "stream",
     "text": [
      "total 160\n",
      "drwxr-xr-x 2 jovyan users  4096 Aug 11 14:30 1502461847\n",
      "drwxr-xr-x 2 jovyan users  4096 Aug 11 14:34 1502462041\n",
      "drwxr-xr-x 2 jovyan users  4096 Aug 11 14:37 1502462251\n",
      "drwxr-xr-x 2 jovyan users  4096 Aug 11 14:37 1502462260\n",
      "drwxr-xr-x 2 jovyan users  4096 Aug 11 14:38 1502462281\n",
      "drwxr-xr-x 2 jovyan users  4096 Aug 11 16:23 1502468616\n",
      "-rw-r--r-- 1 jovyan users  6106 Aug 11 03:26 Command Line Additional Tools.ipynb\n",
      "-rw-r--r-- 1 jovyan users 75211 Aug 11 15:39 Command-Line-Intro.ipynb\n",
      "-r--r--r-- 1 jovyan users 14442 Apr 14 16:13 Command-Line-Intro.ipynb.bak\n",
      "-rwxr--r-- 1 jovyan users   515 Aug 11 03:24 delete_test.sh\n",
      "drwxr-xr-x 5 jovyan users  4096 Aug 11 16:23 demoFolder\n",
      "-rw-r--r-- 1 jovyan users 20978 Aug 11 14:13 lsOutput.png\n",
      "-rw-r--r-- 1 jovyan users  1179 Aug 11 15:03 Untitled.ipynb\n"
     ]
    }
   ],
   "source": [
    "%%bash\n",
    "# Make a directory, name it using epoch time.\n",
    "mkdir $(date +%s)    # if the directory already exists this command will return an error\n",
    "ls -l"
   ]
  },
  {
   "cell_type": "code",
   "execution_count": 4,
   "metadata": {},
   "outputs": [
    {
     "name": "stdout",
     "output_type": "stream",
     "text": [
      "hello.py\n"
     ]
    }
   ],
   "source": [
    "%%bash\n",
    "# Repeat, this time create an empty/blank file in the new directory.\n",
    "DNAME=$(date +%s)\n",
    "mkdir $DNAME\n",
    "touch $DNAME/hello.py\n",
    "ls $DNAME"
   ]
  },
  {
   "cell_type": "markdown",
   "metadata": {},
   "source": [
    "We can also use _echo_ to copy some text into a new or existing file:"
   ]
  },
  {
   "cell_type": "code",
   "execution_count": 5,
   "metadata": {},
   "outputs": [
    {
     "name": "stdout",
     "output_type": "stream",
     "text": [
      "1502469042\n",
      "\n",
      "hello world!\n"
     ]
    }
   ],
   "source": [
    "%%bash\n",
    "\n",
    "DNAME=$(date +%s)\n",
    "mkdir $DNAME\n",
    "touch $DNAME/hello.py\n",
    "echo \"print('\\nhello world!')\" > $DNAME/hello.py\n",
    "\n",
    "# Print to std out the name of the directory\n",
    "echo $DNAME\n",
    "\n",
    "# Execute the python file\n",
    "python $DNAME/hello.py"
   ]
  },
  {
   "cell_type": "code",
   "execution_count": 6,
   "metadata": {},
   "outputs": [
    {
     "name": "stdout",
     "output_type": "stream",
     "text": [
      "1502469149\n",
      "\n",
      "hello Marcus\n"
     ]
    }
   ],
   "source": [
    "%%bash\n",
    "# Note that we can pass variables to files as well\n",
    "DNAME=$(date +%s)\n",
    "PNAME=\"Marcus\"\n",
    "\n",
    "mkdir $DNAME\n",
    "touch $DNAME/hello.py\n",
    "\n",
    "echo \"print('\\nhello $PNAME')\" > $DNAME/hello.py\n",
    "echo $DNAME\n",
    "\n",
    "python $DNAME/hello.py"
   ]
  },
  {
   "cell_type": "markdown",
   "metadata": {},
   "source": [
    "Two commands for reading files include `cat` (concatenate) and `less`.\n",
    "\n",
    "`cat` is better for manipulating files, `less` is recommended for manually paging through longer files."
   ]
  },
  {
   "cell_type": "code",
   "execution_count": 7,
   "metadata": {},
   "outputs": [
    {
     "name": "stdout",
     "output_type": "stream",
     "text": [
      "print('\\nhello Marcus')\n"
     ]
    }
   ],
   "source": [
    "%%bash\n",
    "\n",
    "cat 1502469149/hello.py"
   ]
  },
  {
   "cell_type": "markdown",
   "metadata": {},
   "source": [
    "### Copy, Move, and Delete Files ###\n",
    "\n",
    "Remember _'pwd'_? Often, to copy, move, or delete a file it is necessary to know either the relative or absolute paths of the source and destination directories. _cp_ and _mv_ require source and destination paths. Note that it is possible to rename a file when copying it, but we use 'move' to rename a file without copying it.\n",
    "\n",
    "* _cp_: Copy.\n",
    "* _mv_: Move AND/OR rename.\n",
    "* _rm_: Remove.\n",
    "\n",
    "In the course of developing this demo, we created a __lot__ of epoch time-stamped directories with 'hello.py' files in them. In order to clean them up, one option is to go directory by directory via the GUI, delete the file and then delete the directory. Note that the GUI doesn't allow us to delete directories that aren't empty. This would be time consuming.\n",
    "\n",
    "Alternatively, we can create a bash script to do the same thing."
   ]
  },
  {
   "cell_type": "code",
   "execution_count": 108,
   "metadata": {},
   "outputs": [],
   "source": [
    "%%bash\n",
    "\n",
    "# Break up the process into two steps\n",
    "# 1. Delete the python files\n",
    "#touch deletedFiles_$(date +%Y-%m-%d)\n",
    "#find . -name 'hello.py' -exec echo '{}' >> deletedFiles_$(date +%Y-%m-%d) \\;\n",
    "#while read LINE; do rm -rf \"$LINE\" ; done < deletedFiles_$(date +%Y-%m-%d)\n",
    "\n",
    "# 2. Remove the directories\n",
    "#ls | grep '^[0-9]' > deletedDirectories_$(date +%Y-%m-%d)\n",
    "#while read LINE; do rm -rf \"$LINE\" ; done < deletedDirectories_$(date +%Y-%m-%d)"
   ]
  },
  {
   "cell_type": "markdown",
   "metadata": {},
   "source": [
    "Perhaps the above process is something we need to do on a regular basis, in which case we can save it as an executable script which can be run from the command line or automatically as a cron job."
   ]
  },
  {
   "cell_type": "raw",
   "metadata": {},
   "source": [
    "#!/bin/bash\n",
    "\n",
    "echo \"Not running right now - all the commands have been commented out!\"\n",
    "\n",
    "# Break up the process into two steps\n",
    "# 1. Delete the python files\n",
    "#touch deletedFiles_$(date +%Y-%m-%d)\n",
    "#find . -name 'hello.py' -exec echo '{}' >> deletedFiles_$(date +%Y-%m-%d) \\;\n",
    "#while read LINE; do rm -rf \"$LINE\" ; done < deletedFiles_$(date +%Y-%m-%d)\n",
    "\n",
    "# 2. Remove the directories\n",
    "#ls | grep '^[0-9]' > deletedDirectories_$(date +%Y-%m-%d)\n",
    "#while read LINE; do rm -rf \"$LINE\" ; done < deletedDirectories_$(date +%Y-%m-%d)"
   ]
  },
  {
   "cell_type": "markdown",
   "metadata": {},
   "source": [
    "Before we can run a shell script we have to make it *executable* by using the `chmod` command's capability to set the *executable* permission for the user, group, or others for the script file. "
   ]
  },
  {
   "cell_type": "code",
   "execution_count": 8,
   "metadata": {},
   "outputs": [],
   "source": [
    "%%bash\n",
    "\n",
    "chmod u+x delete_test.sh\n",
    "\n",
    "# in order to execute the script from most locations in the file system you have to completely specify the\n",
    "# location of the file to be run - here we use the shortcut for the current directory\n",
    "./delete_test.sh"
   ]
  },
  {
   "cell_type": "markdown",
   "metadata": {},
   "source": [
    "## What Next ##\n",
    "\n",
    "Some additional learning materials\n",
    "\n",
    "* Lynda.com [*Learn the Linux Command Line: The Basics*](http://www.lynda.com/Linux-tutorials/Learn-Linux-Command-Line-Basics/435539-2.html?org=unm.edu) - particularly:\n",
    "\t* Introduction\n",
    "\t* 1. Command-Line Basics\n",
    "\t* 2. Files, Folders, and Permissions\n",
    "\n",
    "* [Webmonkey \"Unix Guide\"](http://www.webmonkey.com/2010/02/unix-guide/)\n",
    "\n",
    "* [Linux Command Line Cheatsheet](http://www.cheatography.com/davechild/cheat-sheets/linux-command-line/)\n",
    "* [Bash Guide for Beginners](http://www.tldp.org/LDP/Bash-Beginners-Guide/html/)\n",
    "* [An A-Z Index of the Bash command line for Linux](https://ss64.com/bash/)\n",
    "\n"
   ]
  },
  {
   "cell_type": "markdown",
   "metadata": {
    "collapsed": true
   },
   "source": [
    "Some additional commands of immediate interest:\n",
    "\n",
    "* [find](https://ss64.com/bash/find.html)\n",
    "* [grep](https://ss64.com/bash/grep.html)\n",
    "* [curl](https://ss64.com/bash/curl.html)"
   ]
  },
  {
   "cell_type": "code",
   "execution_count": null,
   "metadata": {
    "collapsed": true
   },
   "outputs": [],
   "source": []
  }
 ],
 "metadata": {
  "celltoolbar": "Raw Cell Format",
  "kernelspec": {
   "display_name": "Python 3",
   "language": "python",
   "name": "python3"
  },
  "language_info": {
   "codemirror_mode": {
    "name": "ipython",
    "version": 3
   },
   "file_extension": ".py",
   "mimetype": "text/x-python",
   "name": "python",
   "nbconvert_exporter": "python",
   "pygments_lexer": "ipython3",
   "version": "3.6.4"
  }
 },
 "nbformat": 4,
 "nbformat_minor": 1
}
