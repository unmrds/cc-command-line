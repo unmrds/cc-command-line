{
 "cells": [
  {
   "cell_type": "markdown",
   "metadata": {},
   "source": [
    "# Accessing, Organizing & Pre-processing NCEI/NOAA Data\n",
    "------------------------------------------------------------------------------\n",
    "\n",
    "For this tutorial we will be using some U.S. Hourly Precipitation Data, published by NOAA:\n",
    "\n",
    "**Citation:**\n",
    "\n",
    "> National Climatic Data Center, NESDIS, NOAA, U.S. Department of Commerce (2016). _U.S. Hourly Precipitation Data [dataset]_. NCEI DSI 3240_01 \n",
    "\n",
    "> National Climatic Data Center, NESDIS, NOAA, U.S. Department of Commerce (2016). _U.S. Hourly Precipitation Data [dataset]_. NCEI DSI 3240_02\n",
    "\n",
    "From the webpage at <https://data.nodc.noaa.gov/cgi-bin/iso?id=gov.noaa.ncdc:C00313>, we see that data can be downloaded via the FTP server at <ftp://ftp.ncdc.noaa.gov/pub/data/hourly_precip-3240/>.\n",
    "\n",
    "For our purposes, we are only going to download a small subset of the data from <ftp://ftp.ncdc.noaa.gov/pub/data/hourly_precip-3240/66/>, <ftp://ftp.ncdc.noaa.gov/pub/data/hourly_precip-3240/67/>, and <ftp://ftp.ncdc.noaa.gov/pub/data/hourly_precip-3240/91/>."
   ]
  },
  {
   "cell_type": "code",
   "execution_count": null,
   "metadata": {
    "collapsed": true
   },
   "outputs": [],
   "source": []
  }
 ],
 "metadata": {
  "kernelspec": {
   "display_name": "Python 3",
   "language": "python",
   "name": "python3"
  },
  "language_info": {
   "codemirror_mode": {
    "name": "ipython",
    "version": 3
   },
   "file_extension": ".py",
   "mimetype": "text/x-python",
   "name": "python",
   "nbconvert_exporter": "python",
   "pygments_lexer": "ipython3",
   "version": "3.6.1"
  }
 },
 "nbformat": 4,
 "nbformat_minor": 2
}
